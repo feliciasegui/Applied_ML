{
 "cells": [
  {
   "cell_type": "markdown",
   "metadata": {
    "id": "toGxLTQqa8ct"
   },
   "source": [
    "# Programming Assignment #4: Recurrent Neural Networks\n",
    "Author: Pierre Nugues"
   ]
  },
  {
   "cell_type": "markdown",
   "metadata": {
    "id": "xd5hiET9a8ct"
   },
   "source": [
    "## Objectives"
   ]
  },
  {
   "cell_type": "markdown",
   "metadata": {
    "id": "0ZK7GsrNa8cu"
   },
   "source": [
    "The objectives of this assignment are to:\n",
    "* Write a program to recognize named entities in text\n",
    "* Learn how to manage a text data set\n",
    "* Apply recurrent neural networks to text\n",
    "* Know what word embeddings are\n",
    "* Write a short report on your experiments. This report is mandatory to pass the assignment."
   ]
  },
  {
   "cell_type": "markdown",
   "metadata": {
    "id": "8viqHrrRa8cu"
   },
   "source": [
    "## Organization and location"
   ]
  },
  {
   "cell_type": "markdown",
   "metadata": {
    "id": "mpRXfI6Ea8cu"
   },
   "source": [
    "You can work alone or collaborate with another student:\n",
    "* Each group will have to write Python programs to recognize named entities in text.\n",
    "* You will have to experiment different architectures, namely RNN and LSTM, and compare the results you obtained.\n",
    "* Each student will have to write an individual report on these experiments."
   ]
  },
  {
   "cell_type": "markdown",
   "metadata": {
    "id": "YNU8M-wxa8cu"
   },
   "source": [
    "## Imports"
   ]
  },
  {
   "cell_type": "code",
   "execution_count": 1,
   "metadata": {
    "executionInfo": {
     "elapsed": 751,
     "status": "ok",
     "timestamp": 1606395653994,
     "user": {
      "displayName": "Felicia Segui",
      "photoUrl": "https://lh3.googleusercontent.com/a-/AOh14Gi2D9zqN881jZ8fU71jiNVV3f7taAPsFd2sv67J=s64",
      "userId": "13981410561955150107"
     },
     "user_tz": -60
    },
    "id": "Z5iPyJwKbK10"
   },
   "outputs": [],
   "source": [
    "import os\n",
    "import random\n",
    "import shutil\n",
    "from tqdm import tqdm\n",
    "\n",
    "# The machine name\n",
    "machine_name = 'colab'\n",
    "\n",
    "# To create the same dataset\n",
    "random.seed(0)"
   ]
  },
  {
   "cell_type": "code",
   "execution_count": 2,
   "metadata": {
    "colab": {
     "base_uri": "https://localhost:8080/"
    },
    "executionInfo": {
     "elapsed": 656,
     "status": "ok",
     "timestamp": 1606395656862,
     "user": {
      "displayName": "Felicia Segui",
      "photoUrl": "https://lh3.googleusercontent.com/a-/AOh14Gi2D9zqN881jZ8fU71jiNVV3f7taAPsFd2sv67J=s64",
      "userId": "13981410561955150107"
     },
     "user_tz": -60
    },
    "id": "5IAHv7jKbPd4",
    "outputId": "2173fcb9-7e7a-48c9-a872-c37a5da2b970"
   },
   "outputs": [
    {
     "name": "stdout",
     "output_type": "stream",
     "text": [
      "Drive already mounted at /content/drive; to attempt to forcibly remount, call drive.mount(\"/content/drive\", force_remount=True).\n"
     ]
    }
   ],
   "source": [
    "if machine_name == 'colab':\n",
    "    from google.colab import drive\n",
    "    drive.mount(\"/content/drive\")"
   ]
  },
  {
   "cell_type": "code",
   "execution_count": 3,
   "metadata": {
    "executionInfo": {
     "elapsed": 2306,
     "status": "ok",
     "timestamp": 1606395670344,
     "user": {
      "displayName": "Felicia Segui",
      "photoUrl": "https://lh3.googleusercontent.com/a-/AOh14Gi2D9zqN881jZ8fU71jiNVV3f7taAPsFd2sv67J=s64",
      "userId": "13981410561955150107"
     },
     "user_tz": -60
    },
    "id": "6FtOXHl1a8cu"
   },
   "outputs": [],
   "source": [
    "import sys\n",
    "import regex as re\n",
    "import numpy as np\n",
    "from numpy.linalg import norm\n",
    "from scipy.spatial.distance import cosine\n",
    "import matplotlib.pyplot as plt\n",
    "from sklearn.preprocessing import normalize\n",
    "from keras.models import Sequential\n",
    "from keras.layers import Embedding, Flatten, Dense, Dropout, Lambda, TimeDistributed\n",
    "from keras.layers import LSTM, Bidirectional, SimpleRNN, BatchNormalization\n",
    "from keras.models import Model\n",
    "from keras.preprocessing.sequence import pad_sequences\n",
    "from keras.utils.np_utils import to_categorical\n",
    "from keras.activations import softmax\n",
    "\n",
    "EPOCHS = 15\n",
    "LSTM_UNITS = 100"
   ]
  },
  {
   "cell_type": "markdown",
   "metadata": {
    "id": "pPSN-9n7a8cv"
   },
   "source": [
    "## Collecting a Dataset"
   ]
  },
  {
   "cell_type": "markdown",
   "metadata": {
    "id": "Xj3I7HJwa8cv"
   },
   "source": [
    "1. You will use a dataset from the CoNLL conferences that benchmark natural language processing systems and tasks. There were two conferences on named entity recognition: <a href=\"https://www.clips.uantwerpen.be/conll2002/ner/\">CoNLL 2002</a> (Spanish and Dutch) and <a href=\"https://www.clips.uantwerpen.be/conll2003/ner/\">CoNLL 2003</a> (English and German). In this assignment, you will work on the English dataset. Read the description of the task.\n",
    "2. The datasets are protected by a license and you need to obtain it to reconstruct the data. Alternatively, you can try to find one on github (type conll2003 in the search box) or use the Google dataset search: <a href=\"https://toolbox.google.com/datasetsearch\">https://toolbox.google.com/datasetsearch</a>. All this may take time and your teacher created a local copy in the `/usr/local/cs/EDAN95/datasets/NER-data` folder.\n",
    "3. The dataset comes in the form of three files: a training set, a development set, and a test set. <!--, named:\n",
    "    <tt>eng.train</tt>, <tt>eng.testa</tt> (validation), and <tt>eng.testb</tt> (test).-->"
   ]
  },
  {
   "cell_type": "markdown",
   "metadata": {
    "id": "fJXoI4Gza8cv"
   },
   "source": [
    "## Reading the Corpus"
   ]
  },
  {
   "cell_type": "markdown",
   "metadata": {
    "id": "ZvsSm5QWa8cv"
   },
   "source": [
    "You will read the corpus with the cells below. The functions will enable you to load the files in the form of a list of dictionaries."
   ]
  },
  {
   "cell_type": "code",
   "execution_count": 4,
   "metadata": {
    "executionInfo": {
     "elapsed": 847,
     "status": "ok",
     "timestamp": 1606395694146,
     "user": {
      "displayName": "Felicia Segui",
      "photoUrl": "https://lh3.googleusercontent.com/a-/AOh14Gi2D9zqN881jZ8fU71jiNVV3f7taAPsFd2sv67J=s64",
      "userId": "13981410561955150107"
     },
     "user_tz": -60
    },
    "id": "KN7KBkKda8cv"
   },
   "outputs": [],
   "source": [
    "BASE_DIR = '/content/drive/My Drive/Colab Notebooks/CoNLL2003/'"
   ]
  },
  {
   "cell_type": "code",
   "execution_count": 5,
   "metadata": {
    "executionInfo": {
     "elapsed": 820,
     "status": "ok",
     "timestamp": 1606395694147,
     "user": {
      "displayName": "Felicia Segui",
      "photoUrl": "https://lh3.googleusercontent.com/a-/AOh14Gi2D9zqN881jZ8fU71jiNVV3f7taAPsFd2sv67J=s64",
      "userId": "13981410561955150107"
     },
     "user_tz": -60
    },
    "id": "Jm_nZVZqa8cv"
   },
   "outputs": [],
   "source": [
    "def load_conll2003_en():\n",
    "    #train_file = BASE_DIR + 'NER-data/eng.train'\n",
    "    train_file = BASE_DIR + 'train.txt'\n",
    "    #dev_file = BASE_DIR + 'NER-data/eng.valid'\n",
    "    dev_file = BASE_DIR + 'valid.txt'\n",
    "    #test_file = BASE_DIR + 'NER-data/eng.test'\n",
    "    test_file = BASE_DIR + 'test.txt'\n",
    "    column_names = ['form', 'ppos', 'pchunk', 'ner']\n",
    "    train_sentences = open(train_file, encoding='utf8').read().strip()\n",
    "    dev_sentences = open(dev_file, encoding='utf8').read().strip()\n",
    "    test_sentences = open(test_file, encoding='utf8').read().strip()\n",
    "    return train_sentences, dev_sentences, test_sentences, column_names"
   ]
  },
  {
   "cell_type": "code",
   "execution_count": 6,
   "metadata": {
    "colab": {
     "base_uri": "https://localhost:8080/",
     "height": 1000
    },
    "executionInfo": {
     "elapsed": 807,
     "status": "ok",
     "timestamp": 1606395694148,
     "user": {
      "displayName": "Felicia Segui",
      "photoUrl": "https://lh3.googleusercontent.com/a-/AOh14Gi2D9zqN881jZ8fU71jiNVV3f7taAPsFd2sv67J=s64",
      "userId": "13981410561955150107"
     },
     "user_tz": -60
    },
    "id": "p0roMbjma8cv",
    "outputId": "cd527eb2-4e79-414b-904d-fc52a347a386"
   },
   "outputs": [
    {
     "data": {
      "application/vnd.google.colaboratory.intrinsic+json": {
       "type": "string"
      },
      "text/plain": [
       "'-DOCSTART- -X- -X- O\\n\\nEU NNP B-NP B-ORG\\nrejects VBZ B-VP O\\nGerman JJ B-NP B-MISC\\ncall NN I-NP O\\nto T'"
      ]
     },
     "execution_count": 6,
     "metadata": {
      "tags": []
     },
     "output_type": "execute_result"
    }
   ],
   "source": [
    "train_sentences, dev_sentences, test_sentences, column_names = load_conll2003_en()\n",
    "train_sentences[:100]"
   ]
  },
  {
   "cell_type": "code",
   "execution_count": 7,
   "metadata": {
    "executionInfo": {
     "elapsed": 806,
     "status": "ok",
     "timestamp": 1606395694149,
     "user": {
      "displayName": "Felicia Segui",
      "photoUrl": "https://lh3.googleusercontent.com/a-/AOh14Gi2D9zqN881jZ8fU71jiNVV3f7taAPsFd2sv67J=s64",
      "userId": "13981410561955150107"
     },
     "user_tz": -60
    },
    "id": "w5GSXLlBa8cw"
   },
   "outputs": [],
   "source": [
    "class Token(dict):\n",
    "    pass\n",
    "\n",
    "\n",
    "class CoNLLDictorizer:\n",
    "\n",
    "    def __init__(self, column_names, sent_sep='\\n\\n', col_sep=' +'):\n",
    "        self.column_names = column_names\n",
    "        self.sent_sep = sent_sep\n",
    "        self.col_sep = col_sep\n",
    "\n",
    "    def fit(self):\n",
    "        pass\n",
    "\n",
    "    def transform(self, corpus):\n",
    "        corpus = corpus.strip()\n",
    "        sentences = re.split(self.sent_sep, corpus)\n",
    "        return list(map(self._split_in_words, sentences))\n",
    "\n",
    "    def fit_transform(self, corpus):\n",
    "        return self.transform(corpus)\n",
    "\n",
    "    def _split_in_words(self, sentence):\n",
    "        rows = re.split('\\n', sentence)\n",
    "        return [Token(dict(zip(self.column_names,\n",
    "                               re.split(self.col_sep, row))))\n",
    "                for row in rows]"
   ]
  },
  {
   "cell_type": "code",
   "execution_count": 8,
   "metadata": {
    "executionInfo": {
     "elapsed": 3623,
     "status": "ok",
     "timestamp": 1606395696969,
     "user": {
      "displayName": "Felicia Segui",
      "photoUrl": "https://lh3.googleusercontent.com/a-/AOh14Gi2D9zqN881jZ8fU71jiNVV3f7taAPsFd2sv67J=s64",
      "userId": "13981410561955150107"
     },
     "user_tz": -60
    },
    "id": "pjb8Ii7Fa8cw"
   },
   "outputs": [],
   "source": [
    "conll_dict = CoNLLDictorizer(column_names, col_sep=' +')\n",
    "train_dict = conll_dict.transform(train_sentences)\n",
    "dev_dict = conll_dict.transform(dev_sentences)\n",
    "test_dict = conll_dict.transform(test_sentences)"
   ]
  },
  {
   "cell_type": "code",
   "execution_count": 9,
   "metadata": {
    "colab": {
     "base_uri": "https://localhost:8080/"
    },
    "executionInfo": {
     "elapsed": 3617,
     "status": "ok",
     "timestamp": 1606395696970,
     "user": {
      "displayName": "Felicia Segui",
      "photoUrl": "https://lh3.googleusercontent.com/a-/AOh14Gi2D9zqN881jZ8fU71jiNVV3f7taAPsFd2sv67J=s64",
      "userId": "13981410561955150107"
     },
     "user_tz": -60
    },
    "id": "_lIWxkmna8cw",
    "outputId": "b279af3a-0211-41e7-c1ab-ba525cc81e28"
   },
   "outputs": [
    {
     "name": "stdout",
     "output_type": "stream",
     "text": [
      "[{'form': '-DOCSTART-', 'ppos': '-X-', 'pchunk': '-X-', 'ner': 'O'}]\n",
      "{'form': 'EU', 'ppos': 'NNP', 'pchunk': 'B-NP', 'ner': 'B-ORG'}\n",
      "{'form': 'rejects', 'ppos': 'VBZ', 'pchunk': 'B-VP', 'ner': 'O'}\n",
      "{'form': 'German', 'ppos': 'JJ', 'pchunk': 'B-NP', 'ner': 'B-MISC'}\n",
      "{'form': 'call', 'ppos': 'NN', 'pchunk': 'I-NP', 'ner': 'O'}\n",
      "{'form': 'to', 'ppos': 'TO', 'pchunk': 'B-VP', 'ner': 'O'}\n",
      "{'form': 'boycott', 'ppos': 'VB', 'pchunk': 'I-VP', 'ner': 'O'}\n",
      "{'form': 'British', 'ppos': 'JJ', 'pchunk': 'B-NP', 'ner': 'B-MISC'}\n",
      "{'form': 'lamb', 'ppos': 'NN', 'pchunk': 'I-NP', 'ner': 'O'}\n",
      "{'form': '.', 'ppos': '.', 'pchunk': 'O', 'ner': 'O'}\n"
     ]
    }
   ],
   "source": [
    "print(train_dict[0])\n",
    "print('\\n'.join(map(str, train_dict[1])))"
   ]
  },
  {
   "cell_type": "code",
   "execution_count": 10,
   "metadata": {
    "colab": {
     "base_uri": "https://localhost:8080/"
    },
    "executionInfo": {
     "elapsed": 3611,
     "status": "ok",
     "timestamp": 1606395696971,
     "user": {
      "displayName": "Felicia Segui",
      "photoUrl": "https://lh3.googleusercontent.com/a-/AOh14Gi2D9zqN881jZ8fU71jiNVV3f7taAPsFd2sv67J=s64",
      "userId": "13981410561955150107"
     },
     "user_tz": -60
    },
    "id": "FB_hSDxsTSE1",
    "outputId": "0cd8be88-c911-4895-9170-7c3bd000d594"
   },
   "outputs": [
    {
     "name": "stdout",
     "output_type": "stream",
     "text": [
      "[{'form': '-DOCSTART-', 'ppos': '-X-', 'pchunk': '-X-', 'ner': 'O'}]\n",
      "{'form': 'EU', 'ppos': 'NNP', 'pchunk': 'B-NP', 'ner': 'B-ORG'}\n",
      "{'form': 'rejects', 'ppos': 'VBZ', 'pchunk': 'B-VP', 'ner': 'O'}\n",
      "{'form': 'German', 'ppos': 'JJ', 'pchunk': 'B-NP', 'ner': 'B-MISC'}\n",
      "{'form': 'call', 'ppos': 'NN', 'pchunk': 'I-NP', 'ner': 'O'}\n",
      "{'form': 'to', 'ppos': 'TO', 'pchunk': 'B-VP', 'ner': 'O'}\n",
      "{'form': 'boycott', 'ppos': 'VB', 'pchunk': 'I-VP', 'ner': 'O'}\n",
      "{'form': 'British', 'ppos': 'JJ', 'pchunk': 'B-NP', 'ner': 'B-MISC'}\n",
      "{'form': 'lamb', 'ppos': 'NN', 'pchunk': 'I-NP', 'ner': 'O'}\n",
      "{'form': '.', 'ppos': '.', 'pchunk': 'O', 'ner': 'O'}\n"
     ]
    }
   ],
   "source": [
    "print(test_dict[0])\n",
    "print('\\n'.join(map(str, train_dict[1])))"
   ]
  },
  {
   "cell_type": "markdown",
   "metadata": {
    "id": "JsbyoHP1a8cw"
   },
   "source": [
    "## Evaluating your Models"
   ]
  },
  {
   "cell_type": "markdown",
   "metadata": {
    "id": "39-2dxuEa8cw"
   },
   "source": [
    "You will train the models with the traiing set and the test set to evaluate them. For this, you will apply the `conlleval` script that will compute the harmonic mean of the precision and recall: F1. \n",
    "\n",
    "`conlleval` was written in Perl and you have a local copy of this script in `/usr/local/cs/EDAN95/datasets/ner/bin`. Some people rewrote it in Python and you will use such such a translation in this lab. The line below installs it."
   ]
  },
  {
   "cell_type": "code",
   "execution_count": 11,
   "metadata": {
    "colab": {
     "base_uri": "https://localhost:8080/"
    },
    "executionInfo": {
     "elapsed": 3266,
     "status": "ok",
     "timestamp": 1606395699616,
     "user": {
      "displayName": "Felicia Segui",
      "photoUrl": "https://lh3.googleusercontent.com/a-/AOh14Gi2D9zqN881jZ8fU71jiNVV3f7taAPsFd2sv67J=s64",
      "userId": "13981410561955150107"
     },
     "user_tz": -60
    },
    "id": "gVLK9iXca8cw",
    "outputId": "d0ea1b4e-be64-4c1d-c677-5f3f13e0855e"
   },
   "outputs": [
    {
     "name": "stdout",
     "output_type": "stream",
     "text": [
      "Requirement already satisfied: conlleval in /usr/local/lib/python3.6/dist-packages (0.2)\n"
     ]
    }
   ],
   "source": [
    "#!pip3 install conlleval as conlleval # !: execute the cell as a shell command\n",
    "%pip install conlleval # %: install into the current kernel\n",
    "import conlleval"
   ]
  },
  {
   "cell_type": "markdown",
   "metadata": {
    "id": "pDNl1x2ua8cx"
   },
   "source": [
    "## Collecting the Embeddings"
   ]
  },
  {
   "cell_type": "markdown",
   "metadata": {
    "id": "JE46Z1LDa8cx"
   },
   "source": [
    "You will represent the words with the GloVe embeddings:\n",
    "1. Download the GloVe embeddings 6B from <a href=\"https://nlp.stanford.edu/projects/glove/\">https://nlp.stanford.edu/projects/glove/</a> and keep the 100d vectors.\n",
    "2. You have a local copy of this script in `/usr/local/cs/EDAN95/datasets/`;\n",
    "3. Apply a function that reads GloVe embeddings and store them in a dictionary, where the keys will be the words and the values, the embeddings."
   ]
  },
  {
   "cell_type": "code",
   "execution_count": 12,
   "metadata": {
    "executionInfo": {
     "elapsed": 1868,
     "status": "ok",
     "timestamp": 1606395699617,
     "user": {
      "displayName": "Felicia Segui",
      "photoUrl": "https://lh3.googleusercontent.com/a-/AOh14Gi2D9zqN881jZ8fU71jiNVV3f7taAPsFd2sv67J=s64",
      "userId": "13981410561955150107"
     },
     "user_tz": -60
    },
    "id": "_rH2toQGa8cx"
   },
   "outputs": [],
   "source": [
    "embedding_file = '/content/drive/My Drive/Colab Notebooks/glove/glove.6B.100d.txt' "
   ]
  },
  {
   "cell_type": "code",
   "execution_count": 13,
   "metadata": {
    "executionInfo": {
     "elapsed": 1865,
     "status": "ok",
     "timestamp": 1606395699618,
     "user": {
      "displayName": "Felicia Segui",
      "photoUrl": "https://lh3.googleusercontent.com/a-/AOh14Gi2D9zqN881jZ8fU71jiNVV3f7taAPsFd2sv67J=s64",
      "userId": "13981410561955150107"
     },
     "user_tz": -60
    },
    "id": "U_4iC9IFa8cx"
   },
   "outputs": [],
   "source": [
    "def read_embeddings(file):\n",
    "    \"\"\"\n",
    "    Return the embeddings in the from of a dictionary\n",
    "    :param file:\n",
    "    :return:\n",
    "    \"\"\"\n",
    "    embeddings = {}\n",
    "    glove = open(file, encoding='utf8')\n",
    "    for line in glove:\n",
    "        values = line.strip().split()\n",
    "        word = values[0]\n",
    "        vector = np.array(values[1:], dtype='float32')\n",
    "        embeddings[word] = vector\n",
    "    glove.close()\n",
    "    return embeddings"
   ]
  },
  {
   "cell_type": "code",
   "execution_count": 14,
   "metadata": {
    "colab": {
     "base_uri": "https://localhost:8080/"
    },
    "executionInfo": {
     "elapsed": 12879,
     "status": "ok",
     "timestamp": 1606395710642,
     "user": {
      "displayName": "Felicia Segui",
      "photoUrl": "https://lh3.googleusercontent.com/a-/AOh14Gi2D9zqN881jZ8fU71jiNVV3f7taAPsFd2sv67J=s64",
      "userId": "13981410561955150107"
     },
     "user_tz": -60
    },
    "id": "1eZFNk8ta8cx",
    "outputId": "04265395-5529-47dd-9458-4d3895272c9b"
   },
   "outputs": [
    {
     "name": "stdout",
     "output_type": "stream",
     "text": [
      "# words in embedding dictionary: 400000\n"
     ]
    }
   ],
   "source": [
    "# We read the embeddings\n",
    "embeddings_dict = read_embeddings(embedding_file)\n",
    "embedded_words = sorted(list(embeddings_dict.keys()))\n",
    "print('# words in embedding dictionary:', len(embedded_words))"
   ]
  },
  {
   "cell_type": "markdown",
   "metadata": {
    "id": "pN-HAnP1a8cx"
   },
   "source": [
    "Using a cosine similarity, write a `closest(target_word, embeddings, count=10)` that computes the 5 closest words to the words _table_, _france_, and _sweden_"
   ]
  },
  {
   "cell_type": "code",
   "execution_count": 15,
   "metadata": {
    "executionInfo": {
     "elapsed": 12879,
     "status": "ok",
     "timestamp": 1606395710644,
     "user": {
      "displayName": "Felicia Segui",
      "photoUrl": "https://lh3.googleusercontent.com/a-/AOh14Gi2D9zqN881jZ8fU71jiNVV3f7taAPsFd2sv67J=s64",
      "userId": "13981410561955150107"
     },
     "user_tz": -60
    },
    "id": "DVr4BWTxa8cy"
   },
   "outputs": [],
   "source": [
    "def closest(target_word, embeddings, count = 10):\n",
    "    closest_words = {}\n",
    "    \n",
    "    # Adding the value of the cosine sim. to the dictionary \n",
    "    for word in embeddings:\n",
    "        closest_words[word] = cosine(embeddings_dict[target_word], embeddings_dict[word])\n",
    "    \n",
    "    # Sorting the dictionary and extracting the keys (words)\n",
    "    closest_words = dict(sorted(closest_words.items(), key=lambda item: item[1])[:count]).keys()\n",
    "    \n",
    "    # Return the closests words as a list\n",
    "    return list(closest_words)"
   ]
  },
  {
   "cell_type": "code",
   "execution_count": 16,
   "metadata": {
    "colab": {
     "base_uri": "https://localhost:8080/"
    },
    "executionInfo": {
     "elapsed": 30684,
     "status": "ok",
     "timestamp": 1606395728456,
     "user": {
      "displayName": "Felicia Segui",
      "photoUrl": "https://lh3.googleusercontent.com/a-/AOh14Gi2D9zqN881jZ8fU71jiNVV3f7taAPsFd2sv67J=s64",
      "userId": "13981410561955150107"
     },
     "user_tz": -60
    },
    "id": "t4UGY5Yxa8cy",
    "outputId": "d8cf1d80-9a11-441a-d74c-fc75176cb854",
    "scrolled": false
   },
   "outputs": [
    {
     "data": {
      "text/plain": [
       "['france',\n",
       " 'belgium',\n",
       " 'french',\n",
       " 'britain',\n",
       " 'spain',\n",
       " 'paris',\n",
       " 'germany',\n",
       " 'italy',\n",
       " 'europe',\n",
       " 'netherlands']"
      ]
     },
     "execution_count": 16,
     "metadata": {
      "tags": []
     },
     "output_type": "execute_result"
    }
   ],
   "source": [
    "closest('france', embeddings_dict)"
   ]
  },
  {
   "cell_type": "markdown",
   "metadata": {
    "id": "olIqZB7Ga8cy"
   },
   "source": [
    "## Extracting the $\\mathbf{X}$ and $\\mathbf{Y}$ Lists of Symbols"
   ]
  },
  {
   "cell_type": "markdown",
   "metadata": {
    "id": "bt0kX2kea8cy"
   },
   "source": [
    "Write a `build_sequences(corpus_dict, key_x='form', key_y='ner', tolower=True)` function that for each sentence returns the $\\mathbf{x}$ and $\\mathbf{y}$ lists of symbols consisting of words and NER tags."
   ]
  },
  {
   "cell_type": "code",
   "execution_count": 17,
   "metadata": {
    "executionInfo": {
     "elapsed": 29034,
     "status": "ok",
     "timestamp": 1606395728457,
     "user": {
      "displayName": "Felicia Segui",
      "photoUrl": "https://lh3.googleusercontent.com/a-/AOh14Gi2D9zqN881jZ8fU71jiNVV3f7taAPsFd2sv67J=s64",
      "userId": "13981410561955150107"
     },
     "user_tz": -60
    },
    "id": "DWp-bgJ-a8cy"
   },
   "outputs": [],
   "source": [
    "def build_sequences(corpus_dict, key_x= 'form', key_y= 'ner', tolower = True):\n",
    "    X = []\n",
    "    Y = []\n",
    "    \n",
    "    # Iterating through all sentences in corpus\n",
    "    for sentence in corpus_dict: \n",
    "        X_temp_list = []\n",
    "        Y_temp_list = []\n",
    "        \n",
    "        # Iterating through all words in a sentence\n",
    "        for word in sentence:\n",
    "            \n",
    "            if tolower:\n",
    "                X_temp_list.append(word[key_x].lower())\n",
    "            else:\n",
    "                X_temp_list.append(word[key_x])\n",
    "            \n",
    "            Y_temp_list.append(word[key_y])\n",
    "        \n",
    "        # Appending the lists corresponding to a sentence\n",
    "        X.append(X_temp_list)\n",
    "        Y.append(Y_temp_list)  \n",
    "    \n",
    "    return X,Y"
   ]
  },
  {
   "cell_type": "markdown",
   "metadata": {
    "id": "F_geP3fHa8cy"
   },
   "source": [
    "Apply this function to your datasets so that you create $\\mathbf{X}$ and $\\mathbf{Y}$ lists of lists consisting of words and NER tags\n",
    "        \n",
    "For the second sentence of the training set, you should have:<br/>\n",
    "<tt>x = ['eu', 'rejects', 'german', 'call', 'to', 'boycott', 'british', 'lamb', '.']</tt><br/>\n",
    "<tt>y = ['I-ORG', 'O', 'I-MISC', 'O', 'O', 'O', 'I-MISC', 'O', 'O']</tt><br/>\n",
    "Some datasets you may find on the web use a different NER tagset, where <tt>I-</tt> is\n",
    "replaced with <tt>B-</tt>, like <tt>B-ORG</tt> instead of <tt>I-ORG</tt>. This will not change the results."
   ]
  },
  {
   "cell_type": "code",
   "execution_count": 18,
   "metadata": {
    "colab": {
     "base_uri": "https://localhost:8080/"
    },
    "executionInfo": {
     "elapsed": 29024,
     "status": "ok",
     "timestamp": 1606395728458,
     "user": {
      "displayName": "Felicia Segui",
      "photoUrl": "https://lh3.googleusercontent.com/a-/AOh14Gi2D9zqN881jZ8fU71jiNVV3f7taAPsFd2sv67J=s64",
      "userId": "13981410561955150107"
     },
     "user_tz": -60
    },
    "id": "UZdJJ-SJa8cy",
    "outputId": "8cc14033-ac4a-45a1-d502-431c075a4613",
    "scrolled": true
   },
   "outputs": [
    {
     "name": "stdout",
     "output_type": "stream",
     "text": [
      "First sentence, words ['eu', 'rejects', 'german', 'call', 'to', 'boycott', 'british', 'lamb', '.']\n",
      "First sentence, NER ['B-ORG', 'O', 'B-MISC', 'O', 'O', 'O', 'B-MISC', 'O', 'O']\n"
     ]
    }
   ],
   "source": [
    "X, Y = build_sequences(train_dict, key_x='form', key_y='ner')\n",
    "print('First sentence, words', X[1])\n",
    "print('First sentence, NER', Y[1])"
   ]
  },
  {
   "cell_type": "markdown",
   "metadata": {
    "id": "j7BcrLOpa8cy"
   },
   "source": [
    "## Vocabulary"
   ]
  },
  {
   "cell_type": "markdown",
   "metadata": {
    "id": "24qZ6gQ1a8cy"
   },
   "source": [
    "Create a vocabulary of all the words observed in the training set and the words in GloVe. You should find 402,595 different words. You will proceed in two steps.\n",
    "\n",
    "First extract the list of unique words from the CoNLL training set and the list of tags. You will sort them"
   ]
  },
  {
   "cell_type": "code",
   "execution_count": 19,
   "metadata": {
    "executionInfo": {
     "elapsed": 27271,
     "status": "ok",
     "timestamp": 1606395728459,
     "user": {
      "displayName": "Felicia Segui",
      "photoUrl": "https://lh3.googleusercontent.com/a-/AOh14Gi2D9zqN881jZ8fU71jiNVV3f7taAPsFd2sv67J=s64",
      "userId": "13981410561955150107"
     },
     "user_tz": -60
    },
    "id": "6rF_6wWYa8cy"
   },
   "outputs": [],
   "source": [
    "def vocabulary_creator(X,Y):\n",
    "    words = []\n",
    "    ner = []\n",
    "\n",
    "    # Iterating through the X and Y list\n",
    "    for sentence_words, sentence_tags in zip(X,Y):\n",
    "    \n",
    "        # Iterating through the word and tag list\n",
    "        for word,tag  in zip(sentence_words,sentence_tags):\n",
    "        \n",
    "            # Appending word and its tag if it is not there already\n",
    "            if word not in words:\n",
    "                words.append(word)\n",
    "                ner.append(tag)\n",
    "\n",
    "    # Extracting the unique tags and sort\n",
    "    ner = sorted(np.unique(ner))\n",
    "    words = sorted(words)\n",
    "    \n",
    "    return ner, words"
   ]
  },
  {
   "cell_type": "code",
   "execution_count": 20,
   "metadata": {
    "executionInfo": {
     "elapsed": 36922,
     "status": "ok",
     "timestamp": 1606395738114,
     "user": {
      "displayName": "Felicia Segui",
      "photoUrl": "https://lh3.googleusercontent.com/a-/AOh14Gi2D9zqN881jZ8fU71jiNVV3f7taAPsFd2sv67J=s64",
      "userId": "13981410561955150107"
     },
     "user_tz": -60
    },
    "id": "WHPr_Spoa8cy"
   },
   "outputs": [],
   "source": [
    "ner, words = vocabulary_creator(X,Y)"
   ]
  },
  {
   "cell_type": "code",
   "execution_count": 21,
   "metadata": {
    "colab": {
     "base_uri": "https://localhost:8080/"
    },
    "executionInfo": {
     "elapsed": 36917,
     "status": "ok",
     "timestamp": 1606395738117,
     "user": {
      "displayName": "Felicia Segui",
      "photoUrl": "https://lh3.googleusercontent.com/a-/AOh14Gi2D9zqN881jZ8fU71jiNVV3f7taAPsFd2sv67J=s64",
      "userId": "13981410561955150107"
     },
     "user_tz": -60
    },
    "id": "HomlUlq6a8cy",
    "outputId": "ae0bb410-25ce-4de4-bdd5-84bbc40726ac"
   },
   "outputs": [
    {
     "name": "stdout",
     "output_type": "stream",
     "text": [
      "# words seen in training corpus: 21010\n",
      "# NER tags seen: 9\n"
     ]
    }
   ],
   "source": [
    "print('# words seen in training corpus:', len(words))\n",
    "print('# NER tags seen:', len(ner))"
   ]
  },
  {
   "cell_type": "markdown",
   "metadata": {
    "id": "VeNvpbkQa8cz"
   },
   "source": [
    "Then merge the list of unique CoNLL words with the words in the embedding file. You will sort this list"
   ]
  },
  {
   "cell_type": "code",
   "execution_count": 22,
   "metadata": {
    "executionInfo": {
     "elapsed": 37169,
     "status": "ok",
     "timestamp": 1606395738372,
     "user": {
      "displayName": "Felicia Segui",
      "photoUrl": "https://lh3.googleusercontent.com/a-/AOh14Gi2D9zqN881jZ8fU71jiNVV3f7taAPsFd2sv67J=s64",
      "userId": "13981410561955150107"
     },
     "user_tz": -60
    },
    "id": "oyht2BwFa8cz"
   },
   "outputs": [],
   "source": [
    "vocabulary_words = sorted(np.unique(list(embeddings_dict.keys()) + words))"
   ]
  },
  {
   "cell_type": "code",
   "execution_count": 23,
   "metadata": {
    "colab": {
     "base_uri": "https://localhost:8080/"
    },
    "executionInfo": {
     "elapsed": 37165,
     "status": "ok",
     "timestamp": 1606395738373,
     "user": {
      "displayName": "Felicia Segui",
      "photoUrl": "https://lh3.googleusercontent.com/a-/AOh14Gi2D9zqN881jZ8fU71jiNVV3f7taAPsFd2sv67J=s64",
      "userId": "13981410561955150107"
     },
     "user_tz": -60
    },
    "id": "f-gvrtVia8cz",
    "outputId": "eae163f4-77aa-4ca9-80ac-4a64273e82e7"
   },
   "outputs": [
    {
     "name": "stdout",
     "output_type": "stream",
     "text": [
      "# words in the vocabulary: embeddings and corpus: 402595\n"
     ]
    }
   ],
   "source": [
    "print('# words in the vocabulary: embeddings and corpus:', len(vocabulary_words))"
   ]
  },
  {
   "cell_type": "markdown",
   "metadata": {
    "id": "7Pholgfta8cz"
   },
   "source": [
    "## Index"
   ]
  },
  {
   "cell_type": "markdown",
   "metadata": {
    "id": "RZFrSQsEa8cz"
   },
   "source": [
    "Create indices `word2idx`, `ner2idx` and inverted indices `idx2word`, `idx2ner` for the words and the NER: i.e. you will associate each word with a number. You will use index 0 for the padding symbol and 1 for unknown words."
   ]
  },
  {
   "cell_type": "code",
   "execution_count": 24,
   "metadata": {
    "executionInfo": {
     "elapsed": 34402,
     "status": "ok",
     "timestamp": 1606395738637,
     "user": {
      "displayName": "Felicia Segui",
      "photoUrl": "https://lh3.googleusercontent.com/a-/AOh14Gi2D9zqN881jZ8fU71jiNVV3f7taAPsFd2sv67J=s64",
      "userId": "13981410561955150107"
     },
     "user_tz": -60
    },
    "id": "bRWhcvOpa8cz"
   },
   "outputs": [],
   "source": [
    "word2idx = dict(zip(vocabulary_words, list(range(2,len(vocabulary_words)+2))))\n",
    "idx2word = dict(zip(list(range(2,len(vocabulary_words)+2)),vocabulary_words ))\n",
    "ner2idx = dict(zip(ner, list(range(2,len(ner)+2))))\n",
    "idx2ner = dict(zip(list(range(2,len(ner)+2)),ner ))"
   ]
  },
  {
   "cell_type": "code",
   "execution_count": 25,
   "metadata": {
    "colab": {
     "base_uri": "https://localhost:8080/"
    },
    "executionInfo": {
     "elapsed": 34393,
     "status": "ok",
     "timestamp": 1606395738638,
     "user": {
      "displayName": "Felicia Segui",
      "photoUrl": "https://lh3.googleusercontent.com/a-/AOh14Gi2D9zqN881jZ8fU71jiNVV3f7taAPsFd2sv67J=s64",
      "userId": "13981410561955150107"
     },
     "user_tz": -60
    },
    "id": "1DZ-XK66a8cz",
    "outputId": "43afe668-993f-4da3-c931-71cd7f55ddf9"
   },
   "outputs": [
    {
     "name": "stdout",
     "output_type": "stream",
     "text": [
      "word index: [('!', 2), ('!!', 3), ('!!!', 4), ('!!!!', 5), ('!!!!!', 6), ('!?', 7), ('!?!', 8), ('\"', 9), ('#', 10), ('##', 11), ('###', 12), ('#a', 13), ('#aabccc', 14), ('#b', 15), ('#c', 16), ('#cc', 17), ('#ccc', 18), ('#cccccc', 19), ('#ccccff', 20), ('#d', 21), ('#daa', 22), ('#dcdcdc', 23), ('#e', 24), ('#f', 25), ('#faf', 26)]\n",
      "index word: [(2, '!'), (3, '!!'), (4, '!!!'), (5, '!!!!'), (6, '!!!!!'), (7, '!?'), (8, '!?!'), (9, '\"'), (10, '#'), (11, '##'), (12, '###'), (13, '#a'), (14, '#aabccc'), (15, '#b'), (16, '#c'), (17, '#cc'), (18, '#ccc'), (19, '#cccccc'), (20, '#ccccff'), (21, '#d'), (22, '#daa'), (23, '#dcdcdc'), (24, '#e'), (25, '#f'), (26, '#faf')]\n",
      "NER index: [('B-LOC', 2), ('B-MISC', 3), ('B-ORG', 4), ('B-PER', 5), ('I-LOC', 6), ('I-MISC', 7), ('I-ORG', 8), ('I-PER', 9), ('O', 10)]\n",
      "index word: [(2, 'B-LOC'), (3, 'B-MISC'), (4, 'B-ORG'), (5, 'B-PER'), (6, 'I-LOC'), (7, 'I-MISC'), (8, 'I-ORG'), (9, 'I-PER'), (10, 'O')]\n"
     ]
    }
   ],
   "source": [
    "print('word index:', list(word2idx.items())[:25])\n",
    "print('index word:', list(idx2word.items())[:25])\n",
    "print('NER index:', list(ner2idx.items())[:25])\n",
    "print('index word:', list(idx2ner.items())[:25])"
   ]
  },
  {
   "cell_type": "markdown",
   "metadata": {
    "id": "xuemMtWza8cz"
   },
   "source": [
    "## Embedding Matrix"
   ]
  },
  {
   "cell_type": "markdown",
   "metadata": {
    "id": "1wfNAzzha8cz"
   },
   "source": [
    "Create a matrix of dimensions $(M, N)$, where $M$ will be the size of the vocabulary: The unique words in the training set and the words in GloVe, and $N$, the dimension of the embeddings.\n",
    "The padding symbol and the unknown word symbol will be part of the vocabulary. The shape of your matrix should be: (402597, 100). Initialize it with random values."
   ]
  },
  {
   "cell_type": "code",
   "execution_count": 29,
   "metadata": {
    "executionInfo": {
     "elapsed": 964,
     "status": "ok",
     "timestamp": 1606395747457,
     "user": {
      "displayName": "Felicia Segui",
      "photoUrl": "https://lh3.googleusercontent.com/a-/AOh14Gi2D9zqN881jZ8fU71jiNVV3f7taAPsFd2sv67J=s64",
      "userId": "13981410561955150107"
     },
     "user_tz": -60
    },
    "id": "DYLGkvRva8c1"
   },
   "outputs": [],
   "source": [
    "embedding_matrix = np.random.rand(len(vocabulary_words)+2, len(list(embeddings_dict.values())[0]))"
   ]
  },
  {
   "cell_type": "code",
   "execution_count": 30,
   "metadata": {
    "colab": {
     "base_uri": "https://localhost:8080/"
    },
    "executionInfo": {
     "elapsed": 952,
     "status": "ok",
     "timestamp": 1606395747458,
     "user": {
      "displayName": "Felicia Segui",
      "photoUrl": "https://lh3.googleusercontent.com/a-/AOh14Gi2D9zqN881jZ8fU71jiNVV3f7taAPsFd2sv67J=s64",
      "userId": "13981410561955150107"
     },
     "user_tz": -60
    },
    "id": "bIwLaeY1a8c1",
    "outputId": "27bdb648-d01b-4adf-c9b8-01c520f09063"
   },
   "outputs": [
    {
     "name": "stdout",
     "output_type": "stream",
     "text": [
      "Shape of embedding matrix: (402597, 100)\n"
     ]
    }
   ],
   "source": [
    "\n",
    "print('Shape of embedding matrix:', embedding_matrix.shape)"
   ]
  },
  {
   "cell_type": "markdown",
   "metadata": {
    "id": "1iQ0MXoGa8c1"
   },
   "source": [
    "Fill the matrix with the GloVe embeddings when available. You will use the indices from the previous section. You will call `out_of_embeddings` the list of words in CoNLL, but not in the embedding list."
   ]
  },
  {
   "cell_type": "code",
   "execution_count": 31,
   "metadata": {
    "executionInfo": {
     "elapsed": 1878,
     "status": "ok",
     "timestamp": 1606395748398,
     "user": {
      "displayName": "Felicia Segui",
      "photoUrl": "https://lh3.googleusercontent.com/a-/AOh14Gi2D9zqN881jZ8fU71jiNVV3f7taAPsFd2sv67J=s64",
      "userId": "13981410561955150107"
     },
     "user_tz": -60
    },
    "id": "TUIjRIZWa8c1"
   },
   "outputs": [],
   "source": [
    "out_of_embeddings = []\n",
    "\n",
    "# Iterating through all words in vocabulary\n",
    "for word in vocabulary_words:\n",
    "    \n",
    "# If the word has a glove embedding the row is updated\n",
    "  if word in embeddings_dict.keys():\n",
    "    embedding_matrix[word2idx[word]] = embeddings_dict[word]\n",
    "    \n",
    "# If the word does not have a glove embedding we append the word to a list\n",
    "  else:\n",
    "    out_of_embeddings.append(word)\n",
    "    "
   ]
  },
  {
   "cell_type": "code",
   "execution_count": 32,
   "metadata": {
    "colab": {
     "base_uri": "https://localhost:8080/"
    },
    "executionInfo": {
     "elapsed": 1867,
     "status": "ok",
     "timestamp": 1606395748399,
     "user": {
      "displayName": "Felicia Segui",
      "photoUrl": "https://lh3.googleusercontent.com/a-/AOh14Gi2D9zqN881jZ8fU71jiNVV3f7taAPsFd2sv67J=s64",
      "userId": "13981410561955150107"
     },
     "user_tz": -60
    },
    "id": "ELFPXWRLa8c1",
    "outputId": "1f3d02ba-6ad3-4142-c797-692a03761af8"
   },
   "outputs": [
    {
     "name": "stdout",
     "output_type": "stream",
     "text": [
      "Out of embeddings: 2595\n"
     ]
    },
    {
     "data": {
      "text/plain": [
       "['zelezarny',\n",
       " 'zhilan',\n",
       " 'zieger',\n",
       " 'zighayer',\n",
       " 'zilinskiene',\n",
       " 'zirka-nibas',\n",
       " 'zuleeg',\n",
       " 'zundra',\n",
       " 'zwingmann',\n",
       " 'zyrecha']"
      ]
     },
     "execution_count": 32,
     "metadata": {
      "tags": []
     },
     "output_type": "execute_result"
    }
   ],
   "source": [
    "print('Out of embeddings:', len(out_of_embeddings))\n",
    "out_of_embeddings[-10:]"
   ]
  },
  {
   "cell_type": "code",
   "execution_count": 33,
   "metadata": {
    "colab": {
     "base_uri": "https://localhost:8080/"
    },
    "executionInfo": {
     "elapsed": 1858,
     "status": "ok",
     "timestamp": 1606395748400,
     "user": {
      "displayName": "Felicia Segui",
      "photoUrl": "https://lh3.googleusercontent.com/a-/AOh14Gi2D9zqN881jZ8fU71jiNVV3f7taAPsFd2sv67J=s64",
      "userId": "13981410561955150107"
     },
     "user_tz": -60
    },
    "id": "nbm7cWuia8c1",
    "outputId": "36f05d20-f7ac-49ed-e39e-c0baa09f4a02"
   },
   "outputs": [
    {
     "name": "stdout",
     "output_type": "stream",
     "text": [
      "Embedding of the padding symbol, idx 0, random numbers [0.00969405 0.12740081 0.93836284 0.75829851 0.08821553 0.92349729\n",
      " 0.97158182 0.30208494 0.33986151 0.19973092]\n",
      "Embedding of table [-0.61453998  0.89692998  0.56770998  0.39102    -0.22437     0.49035001\n",
      "  0.10868     0.27410999 -0.23833001 -0.52152997]\n",
      "Embedding of zwingmann, random numbers [0.53884162 0.64917366 0.47327194 0.59612637 0.77124694 0.44301748\n",
      " 0.71021769 0.55200232 0.67369865 0.76049915]\n"
     ]
    }
   ],
   "source": [
    "print('Embedding of the padding symbol, idx 0, random numbers', embedding_matrix[0][:10])\n",
    "print('Embedding of table', embedding_matrix[word2idx['table']][:10])\n",
    "print('Embedding of zwingmann, random numbers', embedding_matrix[word2idx['zwingmann']][:10])"
   ]
  },
  {
   "cell_type": "markdown",
   "metadata": {
    "id": "lUY2AU-4a8c1"
   },
   "source": [
    "## Creating the $\\mathbf{X}$ and $\\mathbf{Y}$ Sequences"
   ]
  },
  {
   "cell_type": "markdown",
   "metadata": {
    "id": "SZvfELKDa8c1"
   },
   "source": [
    "You will now create the input and output sequences with numerical indices. First, convert the $\\mathbf{X}$ and $\\mathbf{Y}$ lists of symbols in lists of numbers using the indices you created"
   ]
  },
  {
   "cell_type": "code",
   "execution_count": 34,
   "metadata": {
    "executionInfo": {
     "elapsed": 697,
     "status": "ok",
     "timestamp": 1606395749909,
     "user": {
      "displayName": "Felicia Segui",
      "photoUrl": "https://lh3.googleusercontent.com/a-/AOh14Gi2D9zqN881jZ8fU71jiNVV3f7taAPsFd2sv67J=s64",
      "userId": "13981410561955150107"
     },
     "user_tz": -60
    },
    "id": "_73lyYzUa8c2"
   },
   "outputs": [],
   "source": [
    "def XY_idx(X,Y, word2idx, ner2idx):\n",
    "    \n",
    "    X_idx = []\n",
    "    Y_idx = []\n",
    "\n",
    "    # Iterating through all sentences (both repr. by words and tags)\n",
    "    for sentence_words, sentence_tags in zip(X,Y):\n",
    "        X_idx_temp = []\n",
    "        Y_idx_temp = []\n",
    "    \n",
    "        # Iterating through the actual words and tags\n",
    "        for word, tag in zip(sentence_words, sentence_tags):\n",
    "        \n",
    "            # Appending the word's index and the belonging tag index\n",
    "            X_idx_temp.append(word2idx[word])\n",
    "            Y_idx_temp.append(ner2idx[tag])\n",
    "    \n",
    "        X_idx.append(X_idx_temp)\n",
    "        Y_idx.append(Y_idx_temp)\n",
    "    \n",
    "    return X_idx, Y_idx"
   ]
  },
  {
   "cell_type": "code",
   "execution_count": 35,
   "metadata": {
    "colab": {
     "base_uri": "https://localhost:8080/"
    },
    "executionInfo": {
     "elapsed": 977,
     "status": "ok",
     "timestamp": 1606395753016,
     "user": {
      "displayName": "Felicia Segui",
      "photoUrl": "https://lh3.googleusercontent.com/a-/AOh14Gi2D9zqN881jZ8fU71jiNVV3f7taAPsFd2sv67J=s64",
      "userId": "13981410561955150107"
     },
     "user_tz": -60
    },
    "id": "pijsHsmda8c2",
    "outputId": "c8e97b4d-f69d-4bab-913f-28faaecfe85e"
   },
   "outputs": [
    {
     "name": "stdout",
     "output_type": "stream",
     "text": [
      "First sentences, word indices [[935], [142143, 307143, 161836, 91321, 363368, 83766, 85852, 218260, 936], [284434, 79019]]\n",
      "First sentences, POS indices [[10], [4, 10, 3, 10, 10, 10, 3, 10, 10], [5, 9]]\n"
     ]
    }
   ],
   "source": [
    "X_idx, Y_idx = XY_idx(X,Y,word2idx, ner2idx)\n",
    "print('First sentences, word indices', X_idx[:3])\n",
    "print('First sentences, POS indices', Y_idx[:3])"
   ]
  },
  {
   "cell_type": "markdown",
   "metadata": {
    "id": "2jOGAYnWa8c2"
   },
   "source": [
    "Pad the sentences using the <tt>pad_sequences</tt> function. As maximum length and `maxlen` argument, you will use 150 or greater. What matters is that you have a length that is larger than the maximum length observed in your training and development corpora. After padding, the second sentence you look like (the indices are not necessarily the same).\n",
    "```\n",
    "x = [     0      0      0      0      0      0      0      0      0      0\n",
    "0      0      0      0      0      0      0      0      0      0\n",
    "0      0      0      0      0      0      0      0      0      0\n",
    "0      0      0      0      0      0      0      0      0      0\n",
    "0      0      0      0      0      0      0      0      0      0\n",
    "0      0      0      0      0      0      0      0      0      0\n",
    "0      0      0      0      0      0      0      0      0      0\n",
    "0      0      0      0      0      0      0      0      0      0\n",
    "0      0      0      0      0      0      0      0      0      0\n",
    "0      0      0      0      0      0      0      0      0      0\n",
    "0      0      0      0      0      0      0      0      0      0\n",
    "0      0      0      0      0      0      0      0      0      0\n",
    "0      0      0      0      0      0      0      0      0      0\n",
    "0      0      0      0      0      0      0      0      0      0\n",
    "0 142143 307143 161836  91321 363368  83766  85852 218260    936]\n",
    "y = [0 0 0 0 0 0 0 0 0 0 0 0 0 0 0 0 0 0 0 0 0 0 0 0 0 0 0 0 0 0 0 0 0 0 0 0 0\n",
    "0 0 0 0 0 0 0 0 0 0 0 0 0 0 0 0 0 0 0 0 0 0 0 0 0 0 0 0 0 0 0 0 0 0 0 0 0\n",
    "0 0 0 0 0 0 0 0 0 0 0 0 0 0 0 0 0 0 0 0 0 0 0 0 0 0 0 0 0 0 0 0 0 0 0 0 0\n",
    "0 0 0 0 0 0 0 0 0 0 0 0 0 0 0 0 0 0 0 0 0 0 0 0 0 0 0 0 0 0 7 9 6 9 9 9 6\n",
    "9 9]\n",
    "```"
   ]
  },
  {
   "cell_type": "code",
   "execution_count": 36,
   "metadata": {
    "executionInfo": {
     "elapsed": 643,
     "status": "ok",
     "timestamp": 1606395756078,
     "user": {
      "displayName": "Felicia Segui",
      "photoUrl": "https://lh3.googleusercontent.com/a-/AOh14Gi2D9zqN881jZ8fU71jiNVV3f7taAPsFd2sv67J=s64",
      "userId": "13981410561955150107"
     },
     "user_tz": -60
    },
    "id": "e6hg-z-ta8c2"
   },
   "outputs": [],
   "source": [
    "X_train,Y_train = pad_sequences(X_idx, maxlen = 150), pad_sequences(Y_idx, maxlen = 150)\n"
   ]
  },
  {
   "cell_type": "code",
   "execution_count": 37,
   "metadata": {
    "colab": {
     "base_uri": "https://localhost:8080/"
    },
    "executionInfo": {
     "elapsed": 916,
     "status": "ok",
     "timestamp": 1606395757547,
     "user": {
      "displayName": "Felicia Segui",
      "photoUrl": "https://lh3.googleusercontent.com/a-/AOh14Gi2D9zqN881jZ8fU71jiNVV3f7taAPsFd2sv67J=s64",
      "userId": "13981410561955150107"
     },
     "user_tz": -60
    },
    "id": "edYSvqmDa8c2",
    "outputId": "ae32c746-e11d-48f8-e6b1-79e067c6ca48"
   },
   "outputs": [
    {
     "name": "stdout",
     "output_type": "stream",
     "text": [
      "[     0      0      0      0      0      0      0      0      0      0\n",
      "      0      0      0      0      0      0      0      0      0      0\n",
      "      0      0      0      0      0      0      0      0      0      0\n",
      "      0      0      0      0      0      0      0      0      0      0\n",
      "      0      0      0      0      0      0      0      0      0      0\n",
      "      0      0      0      0      0      0      0      0      0      0\n",
      "      0      0      0      0      0      0      0      0      0      0\n",
      "      0      0      0      0      0      0      0      0      0      0\n",
      "      0      0      0      0      0      0      0      0      0      0\n",
      "      0      0      0      0      0      0      0      0      0      0\n",
      "      0      0      0      0      0      0      0      0      0      0\n",
      "      0      0      0      0      0      0      0      0      0      0\n",
      "      0      0      0      0      0      0      0      0      0      0\n",
      "      0      0      0      0      0      0      0      0      0      0\n",
      "      0 142143 307143 161836  91321 363368  83766  85852 218260    936]\n",
      "[ 0  0  0  0  0  0  0  0  0  0  0  0  0  0  0  0  0  0  0  0  0  0  0  0\n",
      "  0  0  0  0  0  0  0  0  0  0  0  0  0  0  0  0  0  0  0  0  0  0  0  0\n",
      "  0  0  0  0  0  0  0  0  0  0  0  0  0  0  0  0  0  0  0  0  0  0  0  0\n",
      "  0  0  0  0  0  0  0  0  0  0  0  0  0  0  0  0  0  0  0  0  0  0  0  0\n",
      "  0  0  0  0  0  0  0  0  0  0  0  0  0  0  0  0  0  0  0  0  0  0  0  0\n",
      "  0  0  0  0  0  0  0  0  0  0  0  0  0  0  0  0  0  0  0  0  0  4 10  3\n",
      " 10 10 10  3 10 10]\n"
     ]
    }
   ],
   "source": [
    "print(X_train[1])\n",
    "print(Y_train[1])"
   ]
  },
  {
   "cell_type": "code",
   "execution_count": 38,
   "metadata": {
    "executionInfo": {
     "elapsed": 785,
     "status": "ok",
     "timestamp": 1606395761035,
     "user": {
      "displayName": "Felicia Segui",
      "photoUrl": "https://lh3.googleusercontent.com/a-/AOh14Gi2D9zqN881jZ8fU71jiNVV3f7taAPsFd2sv67J=s64",
      "userId": "13981410561955150107"
     },
     "user_tz": -60
    },
    "id": "tWLCuplta8c2"
   },
   "outputs": [],
   "source": [
    "# FUndering: nu låter jag alla paddings få [1.,0., ...., 0.] och inte bara nollor, men sambergs gjorde inte så\n",
    "\n",
    "def y_creator(Y):\n",
    "    y = []\n",
    "\n",
    "    # Iterating through all sentences\n",
    "    for sentence in Y:\n",
    "        y_sentence_temp = []\n",
    "    \n",
    "        # Iterating through all words in the sentence\n",
    "        for i in range(len(sentence)):\n",
    "            idx_list = list(np.zeros(11))\n",
    "        \n",
    "            if sentence[i] != float(0):\n",
    "            \n",
    "                # Appending the index sentence[i]\n",
    "                idx_list[sentence[i]] = 1.\n",
    "                y_sentence_temp.append(idx_list)\n",
    "            \n",
    "            else:\n",
    "                # Appending zero-array with 1 on index 0 if we have padding\n",
    "                idx_list[0] = 1.\n",
    "                y_sentence_temp.append(idx_list)\n",
    "        \n",
    "        # Appending the list of lists for the sentence as a numpy array    \n",
    "        y.append(np.array(y_sentence_temp))\n",
    "    \n",
    "    return np.array(y)\n",
    "        \n"
   ]
  },
  {
   "cell_type": "code",
   "execution_count": 39,
   "metadata": {
    "executionInfo": {
     "elapsed": 13832,
     "status": "ok",
     "timestamp": 1606395777257,
     "user": {
      "displayName": "Felicia Segui",
      "photoUrl": "https://lh3.googleusercontent.com/a-/AOh14Gi2D9zqN881jZ8fU71jiNVV3f7taAPsFd2sv67J=s64",
      "userId": "13981410561955150107"
     },
     "user_tz": -60
    },
    "id": "MgxJgHVNa8c2"
   },
   "outputs": [],
   "source": [
    "y_train = y_creator(Y_train)"
   ]
  },
  {
   "cell_type": "code",
   "execution_count": 40,
   "metadata": {
    "colab": {
     "base_uri": "https://localhost:8080/"
    },
    "executionInfo": {
     "elapsed": 11110,
     "status": "ok",
     "timestamp": 1606395777258,
     "user": {
      "displayName": "Felicia Segui",
      "photoUrl": "https://lh3.googleusercontent.com/a-/AOh14Gi2D9zqN881jZ8fU71jiNVV3f7taAPsFd2sv67J=s64",
      "userId": "13981410561955150107"
     },
     "user_tz": -60
    },
    "id": "zHGuSayDa8c2",
    "outputId": "0e2a807f-1865-46d4-8866-bfc4c0125cc0"
   },
   "outputs": [
    {
     "data": {
      "text/plain": [
       "array([[1., 0., 0., 0., 0., 0., 0., 0., 0., 0., 0.],\n",
       "       [1., 0., 0., 0., 0., 0., 0., 0., 0., 0., 0.],\n",
       "       [1., 0., 0., 0., 0., 0., 0., 0., 0., 0., 0.],\n",
       "       [1., 0., 0., 0., 0., 0., 0., 0., 0., 0., 0.],\n",
       "       [1., 0., 0., 0., 0., 0., 0., 0., 0., 0., 0.],\n",
       "       [1., 0., 0., 0., 0., 0., 0., 0., 0., 0., 0.],\n",
       "       [0., 0., 0., 0., 1., 0., 0., 0., 0., 0., 0.],\n",
       "       [0., 0., 0., 0., 0., 0., 0., 0., 0., 0., 1.],\n",
       "       [0., 0., 0., 1., 0., 0., 0., 0., 0., 0., 0.],\n",
       "       [0., 0., 0., 0., 0., 0., 0., 0., 0., 0., 1.],\n",
       "       [0., 0., 0., 0., 0., 0., 0., 0., 0., 0., 1.],\n",
       "       [0., 0., 0., 0., 0., 0., 0., 0., 0., 0., 1.],\n",
       "       [0., 0., 0., 1., 0., 0., 0., 0., 0., 0., 0.],\n",
       "       [0., 0., 0., 0., 0., 0., 0., 0., 0., 0., 1.],\n",
       "       [0., 0., 0., 0., 0., 0., 0., 0., 0., 0., 1.]])"
      ]
     },
     "execution_count": 40,
     "metadata": {
      "tags": []
     },
     "output_type": "execute_result"
    }
   ],
   "source": [
    "y_train[1][-15:]"
   ]
  },
  {
   "cell_type": "markdown",
   "metadata": {
    "id": "iro8dsgXa8c2"
   },
   "source": [
    "Do the same for the development set: Build the sequences, map them to indices, pad them, and create $\\mathbf{Y}$ vectors"
   ]
  },
  {
   "cell_type": "code",
   "execution_count": 41,
   "metadata": {
    "colab": {
     "base_uri": "https://localhost:8080/"
    },
    "executionInfo": {
     "elapsed": 8695,
     "status": "ok",
     "timestamp": 1606395777259,
     "user": {
      "displayName": "Felicia Segui",
      "photoUrl": "https://lh3.googleusercontent.com/a-/AOh14Gi2D9zqN881jZ8fU71jiNVV3f7taAPsFd2sv67J=s64",
      "userId": "13981410561955150107"
     },
     "user_tz": -60
    },
    "id": "TaowQrzhOR0q",
    "outputId": "5d82cae7-0002-434d-d4e2-c321fa2aa936"
   },
   "outputs": [
    {
     "name": "stdout",
     "output_type": "stream",
     "text": [
      "[     0      0      0      0      0      0      0      0      0      0\n",
      "      0      0      0      0      0      0      0      0      0      0\n",
      "      0      0      0      0      0      0      0      0      0      0\n",
      "      0      0      0      0      0      0      0      0      0      0\n",
      "      0      0      0      0      0      0      0      0      0      0\n",
      "      0      0      0      0      0      0      0      0      0      0\n",
      "      0      0      0      0      0      0      0      0      0      0\n",
      "      0      0      0      0      0      0      0      0      0      0\n",
      "      0      0      0      0      0      0      0      0      0      0\n",
      "      0      0      0      0      0      0      0      0      0      0\n",
      "      0      0      0      0      0      0      0      0      0      0\n",
      "      0      0      0      0      0      0      0      0      0      0\n",
      "      0      0      0      0      0      0      0      0      0      0\n",
      "      0      0      0      0      0      0      0      0      0      0\n",
      "      0 142143 307143 161836  91321 363368  83766  85852 218260    936]\n"
     ]
    }
   ],
   "source": [
    "print(X_train[1])"
   ]
  },
  {
   "cell_type": "code",
   "execution_count": 42,
   "metadata": {
    "colab": {
     "base_uri": "https://localhost:8080/"
    },
    "executionInfo": {
     "elapsed": 7036,
     "status": "ok",
     "timestamp": 1606395777260,
     "user": {
      "displayName": "Felicia Segui",
      "photoUrl": "https://lh3.googleusercontent.com/a-/AOh14Gi2D9zqN881jZ8fU71jiNVV3f7taAPsFd2sv67J=s64",
      "userId": "13981410561955150107"
     },
     "user_tz": -60
    },
    "id": "uCXv-QdgzY2V",
    "outputId": "85886d6a-4485-4645-ff84-33bdf96e56c9"
   },
   "outputs": [
    {
     "name": "stdout",
     "output_type": "stream",
     "text": [
      "First sentence, words ['cricket', '-', 'leicestershire', 'take', 'over', 'at', 'top', 'after', 'innings', 'victory', '.']\n",
      "First sentence, NER ['O', 'O', 'B-ORG', 'O', 'O', 'O', 'O', 'O', 'O', 'O', 'O']\n"
     ]
    }
   ],
   "source": [
    "X_dev, Y_dev = build_sequences(dev_dict, key_x='form', key_y='ner')\n",
    "print('First sentence, words', X_dev[1])\n",
    "print('First sentence, NER', Y_dev[1])"
   ]
  },
  {
   "cell_type": "code",
   "execution_count": 44,
   "metadata": {
    "executionInfo": {
     "elapsed": 1039,
     "status": "ok",
     "timestamp": 1606395808825,
     "user": {
      "displayName": "Felicia Segui",
      "photoUrl": "https://lh3.googleusercontent.com/a-/AOh14Gi2D9zqN881jZ8fU71jiNVV3f7taAPsFd2sv67J=s64",
      "userId": "13981410561955150107"
     },
     "user_tz": -60
    },
    "id": "OVtBbR5gOOT4"
   },
   "outputs": [],
   "source": [
    "# Change all words to indices\n",
    "# Iterating through all sentences\n",
    "X_dev_idx = []\n",
    "Y_dev_idx = []\n",
    "for sentence_words, sentence_tags in zip(X_dev, Y_dev):\n",
    "  X_temp = []\n",
    "  Y_temp = []\n",
    "\n",
    "  #Iterating through all words\n",
    "  for word,tag in zip(sentence_words, sentence_tags):\n",
    "    \n",
    "\n",
    "    # If the word exists in word2idx the word is changed to the index\n",
    "    if word in word2idx:\n",
    "      X_temp.append(word2idx[word])\n",
    "      Y_temp.append(ner2idx[tag])\n",
    "      \n",
    "    # If the word is unknown it is given the index 1\n",
    "    else:\n",
    "      X_temp.append(1)\n",
    "      Y_temp.append(1)\n",
    "\n",
    "  X_dev_idx.append(X_temp)\n",
    "  Y_dev_idx.append(Y_temp)\n"
   ]
  },
  {
   "cell_type": "code",
   "execution_count": 45,
   "metadata": {
    "colab": {
     "base_uri": "https://localhost:8080/"
    },
    "executionInfo": {
     "elapsed": 657,
     "status": "ok",
     "timestamp": 1606395813832,
     "user": {
      "displayName": "Felicia Segui",
      "photoUrl": "https://lh3.googleusercontent.com/a-/AOh14Gi2D9zqN881jZ8fU71jiNVV3f7taAPsFd2sv67J=s64",
      "userId": "13981410561955150107"
     },
     "user_tz": -60
    },
    "id": "FDk4wb_ROpD2",
    "outputId": "d0058c91-a777-424f-a776-c2c7ab674599"
   },
   "outputs": [
    {
     "name": "stdout",
     "output_type": "stream",
     "text": [
      "[[935], [113351, 679, 221875, 354360, 275584, 63471, 364505, 49150, 192163, 381011, 936], [227217, 15431], [388337, 190955, 53074, 285387, 334414, 364408, 154113, 153033, 26724, 271939, 155673, 62067, 221875, 72732, 339658, 89620, 55656, 192163, 56102, 27037, 315734, 190291, 370791, 119532, 363368, 354360, 275584, 63471, 359698, 176975, 270183, 359698, 112003, 98068, 936], [359787, 344567, 271939, 364505, 517, 360899, 517, 239396, 72525, 332083, 62067, 363053, 311620, 141543, 517, 122982, 56102, 350973, 52957, 104593, 190291, 271939, 381011, 389041, 207175, 231815, 375805, 153033, 227942, 362338, 190291, 359787, 301687, 238429, 49241, 266809, 936]]\n",
      "[[10], [10, 10, 4, 10, 10, 10, 10, 10, 10, 10, 10], [2, 10], [3, 7, 10, 5, 9, 10, 10, 10, 10, 10, 10, 10, 4, 10, 4, 10, 10, 10, 10, 10, 10, 10, 10, 10, 10, 10, 10, 10, 10, 10, 10, 10, 10, 10, 10], [10, 10, 10, 10, 10, 10, 10, 10, 10, 10, 10, 10, 10, 4, 10, 4, 10, 4, 10, 10, 10, 10, 10, 10, 4, 10, 10, 10, 10, 10, 10, 10, 10, 10, 10, 4, 10]]\n"
     ]
    }
   ],
   "source": [
    "print(X_dev_idx[:5])\n",
    "print(Y_dev_idx[:5])"
   ]
  },
  {
   "cell_type": "code",
   "execution_count": 46,
   "metadata": {
    "executionInfo": {
     "elapsed": 612,
     "status": "ok",
     "timestamp": 1606395822915,
     "user": {
      "displayName": "Felicia Segui",
      "photoUrl": "https://lh3.googleusercontent.com/a-/AOh14Gi2D9zqN881jZ8fU71jiNVV3f7taAPsFd2sv67J=s64",
      "userId": "13981410561955150107"
     },
     "user_tz": -60
    },
    "id": "2_XinlQ9S5sy"
   },
   "outputs": [],
   "source": [
    "X_dev_padded, Y_dev_padded = pad_sequences(X_dev_idx, maxlen = 150), pad_sequences(Y_dev_idx, maxlen = 150)"
   ]
  },
  {
   "cell_type": "code",
   "execution_count": 47,
   "metadata": {
    "executionInfo": {
     "elapsed": 3880,
     "status": "ok",
     "timestamp": 1606395827939,
     "user": {
      "displayName": "Felicia Segui",
      "photoUrl": "https://lh3.googleusercontent.com/a-/AOh14Gi2D9zqN881jZ8fU71jiNVV3f7taAPsFd2sv67J=s64",
      "userId": "13981410561955150107"
     },
     "user_tz": -60
    },
    "id": "evcLYwkSU8jJ"
   },
   "outputs": [],
   "source": [
    "y_dev = []\n",
    "\n",
    "# Iterating through all sentences\n",
    "for sentence in Y_dev_padded:\n",
    "  y_sentence_temp = []\n",
    "\n",
    "  # Iterating through all words in the sentence\n",
    "  for i in range(len(sentence)):\n",
    "    idx_list = list(np.zeros(11))\n",
    "\n",
    "    if sentence[i] != float(0):\n",
    "\n",
    "      # Appending the index sentence[i]\n",
    "      idx_list[sentence[i]] = 1.\n",
    "      y_sentence_temp.append(idx_list)\n",
    "\n",
    "    else:\n",
    "      # Appending zero-array with 1 on index 0 if we have padding\n",
    "      idx_list[0] = 1.\n",
    "      y_sentence_temp.append(idx_list)\n",
    "\n",
    "  # Appending the list of lists for the sentence as a numpy array  \n",
    "  y_dev.append(np.array(y_sentence_temp))\n",
    "\n",
    "y_dev = np.array(y_dev)"
   ]
  },
  {
   "cell_type": "markdown",
   "metadata": {
    "id": "CuqQgfMka8c2"
   },
   "source": [
    "## Building a Simple Recurrent Neural Network"
   ]
  },
  {
   "cell_type": "markdown",
   "metadata": {
    "id": "tzJLbln6a8c2"
   },
   "source": [
    "Create a simple recurrent network and train a model with the training set. As layers, you will use `Embedding`, `SimpleRNN`, and `Dense`."
   ]
  },
  {
   "cell_type": "code",
   "execution_count": 48,
   "metadata": {
    "executionInfo": {
     "elapsed": 847,
     "status": "ok",
     "timestamp": 1606395834241,
     "user": {
      "displayName": "Felicia Segui",
      "photoUrl": "https://lh3.googleusercontent.com/a-/AOh14Gi2D9zqN881jZ8fU71jiNVV3f7taAPsFd2sv67J=s64",
      "userId": "13981410561955150107"
     },
     "user_tz": -60
    },
    "id": "MMwA2rH5a8c2"
   },
   "outputs": [],
   "source": [
    "max_features = len(vocabulary_words)+2 # Length of vocabulary including tag for padding and unknown words\n",
    "arraylen = 100\n",
    "max_len = 150"
   ]
  },
  {
   "cell_type": "code",
   "execution_count": 49,
   "metadata": {
    "colab": {
     "base_uri": "https://localhost:8080/"
    },
    "executionInfo": {
     "elapsed": 2126,
     "status": "ok",
     "timestamp": 1606395837701,
     "user": {
      "displayName": "Felicia Segui",
      "photoUrl": "https://lh3.googleusercontent.com/a-/AOh14Gi2D9zqN881jZ8fU71jiNVV3f7taAPsFd2sv67J=s64",
      "userId": "13981410561955150107"
     },
     "user_tz": -60
    },
    "id": "8w-UtzIXqx7h",
    "outputId": "1f74f757-5a80-48c3-dc53-db1210d76eb1"
   },
   "outputs": [
    {
     "name": "stdout",
     "output_type": "stream",
     "text": [
      "Model: \"sequential\"\n",
      "_________________________________________________________________\n",
      "Layer (type)                 Output Shape              Param #   \n",
      "=================================================================\n",
      "embedding (Embedding)        (None, 150, 100)          40259700  \n",
      "_________________________________________________________________\n",
      "simple_rnn (SimpleRNN)       (None, 150, 100)          20100     \n",
      "_________________________________________________________________\n",
      "dense (Dense)                (None, 150, 11)           1111      \n",
      "=================================================================\n",
      "Total params: 40,280,911\n",
      "Trainable params: 21,211\n",
      "Non-trainable params: 40,259,700\n",
      "_________________________________________________________________\n"
     ]
    }
   ],
   "source": [
    "# ORIGINAL \n",
    "model = Sequential()\n",
    "model.add(Embedding(max_features, arraylen, input_length = max_len, weights = [embedding_matrix], trainable = False, mask_zero = True))\n",
    "model.add(SimpleRNN(return_sequences=True, units = LSTM_UNITS))\n",
    "model.add(Dense(11, activation='softmax'))\n",
    "model.summary()"
   ]
  },
  {
   "cell_type": "code",
   "execution_count": null,
   "metadata": {
    "colab": {
     "base_uri": "https://localhost:8080/"
    },
    "executionInfo": {
     "elapsed": 1926,
     "status": "ok",
     "timestamp": 1606376227523,
     "user": {
      "displayName": "Felicia Segui",
      "photoUrl": "https://lh3.googleusercontent.com/a-/AOh14Gi2D9zqN881jZ8fU71jiNVV3f7taAPsFd2sv67J=s64",
      "userId": "13981410561955150107"
     },
     "user_tz": -60
    },
    "id": "lt8r0B3Xa8c2",
    "outputId": "c15a8ec6-e85a-4b46-c327-78590c9dafbe"
   },
   "outputs": [
    {
     "name": "stdout",
     "output_type": "stream",
     "text": [
      "Model: \"sequential_1\"\n",
      "_________________________________________________________________\n",
      "Layer (type)                 Output Shape              Param #   \n",
      "=================================================================\n",
      "embedding_1 (Embedding)      (None, 150, 100)          40259700  \n",
      "_________________________________________________________________\n",
      "bidirectional (Bidirectional (None, 150, 200)          40200     \n",
      "_________________________________________________________________\n",
      "dropout (Dropout)            (None, 150, 200)          0         \n",
      "_________________________________________________________________\n",
      "simple_rnn_2 (SimpleRNN)     (None, 150, 100)          30100     \n",
      "_________________________________________________________________\n",
      "dropout_1 (Dropout)          (None, 150, 100)          0         \n",
      "_________________________________________________________________\n",
      "simple_rnn_3 (SimpleRNN)     (None, 150, 100)          20100     \n",
      "_________________________________________________________________\n",
      "dense_1 (Dense)              (None, 150, 11)           1111      \n",
      "=================================================================\n",
      "Total params: 40,351,211\n",
      "Trainable params: 91,511\n",
      "Non-trainable params: 40,259,700\n",
      "_________________________________________________________________\n"
     ]
    }
   ],
   "source": [
    "# IMPROVED\n",
    "\n",
    "model = Sequential()\n",
    "model.add(Embedding(max_features, arraylen, input_length = max_len, weights = [embedding_matrix], trainable = False, mask_zero = True))\n",
    "#model.add(Bidirectional(LSTM(100, return_sequences=True))) # second eval, adding this layer\n",
    "model.add(Bidirectional(layer = SimpleRNN(return_sequences=True, units = LSTM_UNITS)))\n",
    "model.add(Dropout(0.2)) #  second eval, adding this layer\n",
    "model.add(SimpleRNN(return_sequences=True, units = LSTM_UNITS))\n",
    "model.add(Dropout(0.2)) # second eval, adding this layer\n",
    "model.add(SimpleRNN(return_sequences=True, units = LSTM_UNITS)) # second eval, adding this layer again\n",
    "model.add(Dense(11, activation='softmax'))\n",
    "model.summary()"
   ]
  },
  {
   "cell_type": "markdown",
   "metadata": {
    "id": "xKxwwy6Na8c2"
   },
   "source": [
    "Compile your network. "
   ]
  },
  {
   "cell_type": "markdown",
   "metadata": {
    "id": "-qEMm0NMa8c2"
   },
   "source": [
    "Fit it"
   ]
  },
  {
   "cell_type": "code",
   "execution_count": 50,
   "metadata": {
    "executionInfo": {
     "elapsed": 680,
     "status": "ok",
     "timestamp": 1606395840167,
     "user": {
      "displayName": "Felicia Segui",
      "photoUrl": "https://lh3.googleusercontent.com/a-/AOh14Gi2D9zqN881jZ8fU71jiNVV3f7taAPsFd2sv67J=s64",
      "userId": "13981410561955150107"
     },
     "user_tz": -60
    },
    "id": "yedg8GNRa8c2"
   },
   "outputs": [],
   "source": [
    "model.compile(optimizer='rmsprop', loss='categorical_crossentropy', metrics=['acc'])"
   ]
  },
  {
   "cell_type": "code",
   "execution_count": 51,
   "metadata": {
    "colab": {
     "base_uri": "https://localhost:8080/"
    },
    "executionInfo": {
     "elapsed": 121620,
     "status": "ok",
     "timestamp": 1606397088189,
     "user": {
      "displayName": "Felicia Segui",
      "photoUrl": "https://lh3.googleusercontent.com/a-/AOh14Gi2D9zqN881jZ8fU71jiNVV3f7taAPsFd2sv67J=s64",
      "userId": "13981410561955150107"
     },
     "user_tz": -60
    },
    "id": "FW5zYQkCa8c3",
    "outputId": "8b3ffe77-82bd-4358-c52e-ab98bd062589",
    "scrolled": true
   },
   "outputs": [
    {
     "name": "stdout",
     "output_type": "stream",
     "text": [
      "Epoch 1/15\n",
      "469/469 [==============================] - 86s 183ms/step - loss: 0.0283 - acc: 0.9142 - val_loss: 0.0346 - val_acc: 0.9268\n",
      "Epoch 2/15\n",
      "469/469 [==============================] - 86s 183ms/step - loss: 0.0180 - acc: 0.9438 - val_loss: 0.0368 - val_acc: 0.9353\n",
      "Epoch 3/15\n",
      "469/469 [==============================] - 85s 181ms/step - loss: 0.0154 - acc: 0.9513 - val_loss: 0.0369 - val_acc: 0.9406\n",
      "Epoch 4/15\n",
      "469/469 [==============================] - 87s 186ms/step - loss: 0.0137 - acc: 0.9558 - val_loss: 0.0367 - val_acc: 0.9427\n",
      "Epoch 5/15\n",
      "469/469 [==============================] - 87s 185ms/step - loss: 0.0125 - acc: 0.9593 - val_loss: 0.0360 - val_acc: 0.9447\n",
      "Epoch 6/15\n",
      "469/469 [==============================] - 87s 186ms/step - loss: 0.0116 - acc: 0.9622 - val_loss: 0.0369 - val_acc: 0.9444\n",
      "Epoch 7/15\n",
      "469/469 [==============================] - 87s 187ms/step - loss: 0.0109 - acc: 0.9643 - val_loss: 0.0354 - val_acc: 0.9484\n",
      "Epoch 8/15\n",
      "469/469 [==============================] - 84s 179ms/step - loss: 0.0103 - acc: 0.9661 - val_loss: 0.0353 - val_acc: 0.9482\n",
      "Epoch 9/15\n",
      "469/469 [==============================] - 81s 173ms/step - loss: 0.0098 - acc: 0.9678 - val_loss: 0.0355 - val_acc: 0.9486\n",
      "Epoch 10/15\n",
      "469/469 [==============================] - 79s 169ms/step - loss: 0.0094 - acc: 0.9692 - val_loss: 0.0356 - val_acc: 0.9483\n",
      "Epoch 11/15\n",
      "469/469 [==============================] - 79s 168ms/step - loss: 0.0089 - acc: 0.9707 - val_loss: 0.0356 - val_acc: 0.9494\n",
      "Epoch 12/15\n",
      "469/469 [==============================] - 76s 162ms/step - loss: 0.0085 - acc: 0.9719 - val_loss: 0.0347 - val_acc: 0.9499\n",
      "Epoch 13/15\n",
      "469/469 [==============================] - 75s 159ms/step - loss: 0.0082 - acc: 0.9730 - val_loss: 0.0351 - val_acc: 0.9503\n",
      "Epoch 14/15\n",
      "469/469 [==============================] - 80s 170ms/step - loss: 0.0079 - acc: 0.9736 - val_loss: 0.0355 - val_acc: 0.9499\n",
      "Epoch 15/15\n",
      "469/469 [==============================] - 84s 179ms/step - loss: 0.0075 - acc: 0.9748 - val_loss: 0.0350 - val_acc: 0.9505\n"
     ]
    }
   ],
   "source": [
    "history = model.fit(X_train, y_train,\n",
    "                    epochs=15,\n",
    "                    batch_size=32, validation_data=(X_dev_padded, y_dev))"
   ]
  },
  {
   "cell_type": "markdown",
   "metadata": {
    "id": "xwqFRXXJa8c3"
   },
   "source": [
    "Create a figure to show the training and validation losses and accuracies and comment on a possible overfit."
   ]
  },
  {
   "cell_type": "code",
   "execution_count": 52,
   "metadata": {
    "colab": {
     "base_uri": "https://localhost:8080/",
     "height": 543
    },
    "executionInfo": {
     "elapsed": 1417,
     "status": "ok",
     "timestamp": 1606398034311,
     "user": {
      "displayName": "Felicia Segui",
      "photoUrl": "https://lh3.googleusercontent.com/a-/AOh14Gi2D9zqN881jZ8fU71jiNVV3f7taAPsFd2sv67J=s64",
      "userId": "13981410561955150107"
     },
     "user_tz": -60
    },
    "id": "VMvWb_Yoa8c3",
    "outputId": "cd5be16f-3dfb-4251-db84-61f14e80e6d2"
   },
   "outputs": [
    {
     "data": {
      "image/png": "[encoded data removed]",
      "text/plain": [
       "<Figure size 432x288 with 1 Axes>"
      ]
     },
     "metadata": {
      "needs_background": "light",
      "tags": []
     },
     "output_type": "display_data"
    },
    {
     "data": {
      "image/png": "[encoded data removed]",
      "text/plain": [
       "<Figure size 432x288 with 1 Axes>"
      ]
     },
     "metadata": {
      "needs_background": "light",
      "tags": []
     },
     "output_type": "display_data"
    }
   ],
   "source": [
    "# ORIGINAL\n",
    "acc = history.history['acc']\n",
    "val_acc = history.history['val_acc']\n",
    "loss = history.history['loss']\n",
    "val_loss = history.history['val_loss']\n",
    "\n",
    "epochs = range(len(acc))\n",
    "\n",
    "plt.plot(epochs, acc, 'bo', label='Training acc')\n",
    "plt.plot(epochs, val_acc, 'b', label='Validation acc')\n",
    "plt.title('Training and validation accuracy')\n",
    "plt.legend()\n",
    "\n",
    "plt.figure()\n",
    "\n",
    "plt.plot(epochs, loss, 'bo', label='Training loss')\n",
    "plt.plot(epochs, val_loss, 'b', label='Validation loss')\n",
    "plt.title('Training and validation loss')\n",
    "plt.legend()\n",
    "\n",
    "plt.show()"
   ]
  },
  {
   "cell_type": "code",
   "execution_count": null,
   "metadata": {
    "colab": {
     "base_uri": "https://localhost:8080/",
     "height": 543
    },
    "executionInfo": {
     "elapsed": 1829,
     "status": "ok",
     "timestamp": 1606380782657,
     "user": {
      "displayName": "Felicia Segui",
      "photoUrl": "https://lh3.googleusercontent.com/a-/AOh14Gi2D9zqN881jZ8fU71jiNVV3f7taAPsFd2sv67J=s64",
      "userId": "13981410561955150107"
     },
     "user_tz": -60
    },
    "id": "7zX4SQSSfMgV",
    "outputId": "a7b45872-1f2e-49c2-e550-43e2657afd11"
   },
   "outputs": [
    {
     "data": {
      "image/png": "[encoded data removed]",
      "text/plain": [
       "<Figure size 432x288 with 1 Axes>"
      ]
     },
     "metadata": {
      "needs_background": "light",
      "tags": []
     },
     "output_type": "display_data"
    },
    {
     "data": {
      "image/png": "[encoded data removed]",
      "text/plain": [
       "<Figure size 432x288 with 1 Axes>"
      ]
     },
     "metadata": {
      "needs_background": "light",
      "tags": []
     },
     "output_type": "display_data"
    }
   ],
   "source": [
    "# IMPROVED\n",
    "acc = history.history['acc']\n",
    "val_acc = history.history['val_acc']\n",
    "loss = history.history['loss']\n",
    "val_loss = history.history['val_loss']\n",
    "\n",
    "epochs = range(len(acc))\n",
    "\n",
    "plt.plot(epochs, acc, 'bo', label='Training acc')\n",
    "plt.plot(epochs, val_acc, 'b', label='Validation acc')\n",
    "plt.title('Training and validation accuracy')\n",
    "plt.legend()\n",
    "\n",
    "plt.figure()\n",
    "\n",
    "plt.plot(epochs, loss, 'bo', label='Training loss')\n",
    "plt.plot(epochs, val_loss, 'b', label='Validation loss')\n",
    "plt.title('Training and validation loss')\n",
    "plt.legend()\n",
    "\n",
    "plt.show()"
   ]
  },
  {
   "cell_type": "markdown",
   "metadata": {
    "id": "KU7GIG9ja8c3"
   },
   "source": [
    "Apply your network to one sentence."
   ]
  },
  {
   "cell_type": "code",
   "execution_count": 53,
   "metadata": {
    "executionInfo": {
     "elapsed": 1331,
     "status": "ok",
     "timestamp": 1606398042190,
     "user": {
      "displayName": "Felicia Segui",
      "photoUrl": "https://lh3.googleusercontent.com/a-/AOh14Gi2D9zqN881jZ8fU71jiNVV3f7taAPsFd2sv67J=s64",
      "userId": "13981410561955150107"
     },
     "user_tz": -60
    },
    "id": "0E5J4OICa8c3"
   },
   "outputs": [],
   "source": [
    "sentence = 'The United States might collapsez'.lower().split()"
   ]
  },
  {
   "cell_type": "markdown",
   "metadata": {
    "id": "o6YvpMhGa8c3"
   },
   "source": [
    "First convert the sentence into indices"
   ]
  },
  {
   "cell_type": "code",
   "execution_count": 54,
   "metadata": {
    "executionInfo": {
     "elapsed": 781,
     "status": "ok",
     "timestamp": 1606398044950,
     "user": {
      "displayName": "Felicia Segui",
      "photoUrl": "https://lh3.googleusercontent.com/a-/AOh14Gi2D9zqN881jZ8fU71jiNVV3f7taAPsFd2sv67J=s64",
      "userId": "13981410561955150107"
     },
     "user_tz": -60
    },
    "id": "9iiwDlB6a8c3"
   },
   "outputs": [],
   "source": [
    "# Write your code\n",
    "word_indices = []\n",
    "for word in sentence:\n",
    "    if word in list(word2idx.keys()):\n",
    "        word_indices.append(word2idx[word])\n",
    "    else:\n",
    "        word_indices.append(1)"
   ]
  },
  {
   "cell_type": "code",
   "execution_count": 55,
   "metadata": {
    "colab": {
     "base_uri": "https://localhost:8080/"
    },
    "executionInfo": {
     "elapsed": 652,
     "status": "ok",
     "timestamp": 1606398048639,
     "user": {
      "displayName": "Felicia Segui",
      "photoUrl": "https://lh3.googleusercontent.com/a-/AOh14Gi2D9zqN881jZ8fU71jiNVV3f7taAPsFd2sv67J=s64",
      "userId": "13981410561955150107"
     },
     "user_tz": -60
    },
    "id": "Y5B0dPVMx-G-",
    "outputId": "8e194b79-9b37-4a9e-8d39-61ded7d7b695"
   },
   "outputs": [
    {
     "name": "stdout",
     "output_type": "stream",
     "text": [
      "Sentence  ['the', 'united', 'states', 'might', 'collapsez']\n",
      "Sentence word indexes  [359698, 374678, 344404, 246008, 1]\n"
     ]
    }
   ],
   "source": [
    "print('Sentence ', sentence)\n",
    "print('Sentence word indexes ', word_indices)"
   ]
  },
  {
   "cell_type": "code",
   "execution_count": 56,
   "metadata": {
    "executionInfo": {
     "elapsed": 774,
     "status": "ok",
     "timestamp": 1606398052042,
     "user": {
      "displayName": "Felicia Segui",
      "photoUrl": "https://lh3.googleusercontent.com/a-/AOh14Gi2D9zqN881jZ8fU71jiNVV3f7taAPsFd2sv67J=s64",
      "userId": "13981410561955150107"
     },
     "user_tz": -60
    },
    "id": "__7kHQemcSqH"
   },
   "outputs": [],
   "source": [
    "x_sentence = pad_sequences([word_indices], maxlen = 150)"
   ]
  },
  {
   "cell_type": "markdown",
   "metadata": {
    "id": "LNhP4gCoa8c3"
   },
   "source": [
    "Apply the prediction"
   ]
  },
  {
   "cell_type": "code",
   "execution_count": 57,
   "metadata": {
    "colab": {
     "base_uri": "https://localhost:8080/"
    },
    "executionInfo": {
     "elapsed": 699,
     "status": "ok",
     "timestamp": 1606398054195,
     "user": {
      "displayName": "Felicia Segui",
      "photoUrl": "https://lh3.googleusercontent.com/a-/AOh14Gi2D9zqN881jZ8fU71jiNVV3f7taAPsFd2sv67J=s64",
      "userId": "13981410561955150107"
     },
     "user_tz": -60
    },
    "id": "C96KKrG8a8c4",
    "outputId": "c08313fa-6d18-4929-fdd9-e4438507ec55"
   },
   "outputs": [
    {
     "name": "stdout",
     "output_type": "stream",
     "text": [
      "WARNING:tensorflow:From <ipython-input-57-bc7d10a3e406>:1: Sequential.predict_classes (from tensorflow.python.keras.engine.sequential) is deprecated and will be removed after 2021-01-01.\n",
      "Instructions for updating:\n",
      "Please use instead:* `np.argmax(model.predict(x), axis=-1)`,   if your model does multi-class classification   (e.g. if it uses a `softmax` last-layer activation).* `(model.predict(x) > 0.5).astype(\"int32\")`,   if your model does binary classification   (e.g. if it uses a `sigmoid` last-layer activation).\n"
     ]
    }
   ],
   "source": [
    "predictions = model.predict_classes(x_sentence)"
   ]
  },
  {
   "cell_type": "code",
   "execution_count": 58,
   "metadata": {
    "colab": {
     "base_uri": "https://localhost:8080/"
    },
    "executionInfo": {
     "elapsed": 665,
     "status": "ok",
     "timestamp": 1606398056593,
     "user": {
      "displayName": "Felicia Segui",
      "photoUrl": "https://lh3.googleusercontent.com/a-/AOh14Gi2D9zqN881jZ8fU71jiNVV3f7taAPsFd2sv67J=s64",
      "userId": "13981410561955150107"
     },
     "user_tz": -60
    },
    "id": "i0We8u_ydA9U",
    "outputId": "7d133d5c-3a56-4d07-e98a-d4d01d85e40c"
   },
   "outputs": [
    {
     "name": "stdout",
     "output_type": "stream",
     "text": [
      "the : O\n",
      "united : B-LOC\n",
      "states : I-LOC\n",
      "might : O\n",
      "collapsez : O\n"
     ]
    }
   ],
   "source": [
    "for i in range(len(sentence)):\n",
    "  print(sentence[i], ':', idx2ner[predictions[0][i-len(sentence)]])"
   ]
  },
  {
   "cell_type": "markdown",
   "metadata": {
    "id": "0pPggJ8Wa8c4"
   },
   "source": [
    "## Evaluating your System"
   ]
  },
  {
   "cell_type": "markdown",
   "metadata": {
    "id": "QPz478rta8c4"
   },
   "source": [
    "You will now evaluate the performance of your system on the whole test set. You will use the official script.\n",
    "<ol>\n",
    "    <li>Use the <tt>predict</tt> method to predict the tags of the whole test set\n",
    "    </li>\n",
    "    <li>Write your results in a file, where the two last columns will be the hand-annotated tag\n",
    "        and the predicted tag. The fields must be separated by a space and each line must end with a new line:\n",
    "        <tt>\\n</tt>.\n",
    "    </li>\n",
    "    <li>\n",
    "        If you save your results on a Windows machine, Python will use the default end-of-line sequence: <tt>\\r\\n</tt>.\n",
    "        You will then need either to convert your file or to modify the way you save your file.\n",
    "    </li>\n",
    "    <li>Apply <tt>conlleval</tt> to your output. Report the F1 result.<br/>\n",
    "        Be aware that <tt>conlleval</tt> was designed for Unix and will break\n",
    "    with Windows end-of-line conventions.</li>\n",
    "    <li>Try to improve your model by modifying some parameters, adding layers, adding\n",
    "        <tt>Bidirectional</tt>\n",
    "        and <tt>Dropout</tt>.\n",
    "    </li>\n",
    "    <li>\n",
    "        Evaluate your network again\n",
    "    </li>\n",
    "</ol>"
   ]
  },
  {
   "cell_type": "markdown",
   "metadata": {
    "id": "DDfYBn5La8c4"
   },
   "source": [
    "First translate the input part of the test set, the words, into lists of words, `X_test`, lists of indices, `X_test_idx`, and a matrix of indices, where you will pad the sequences: `X_test_padded`"
   ]
  },
  {
   "cell_type": "code",
   "execution_count": 59,
   "metadata": {
    "colab": {
     "base_uri": "https://localhost:8080/"
    },
    "executionInfo": {
     "elapsed": 849,
     "status": "ok",
     "timestamp": 1606398065350,
     "user": {
      "displayName": "Felicia Segui",
      "photoUrl": "https://lh3.googleusercontent.com/a-/AOh14Gi2D9zqN881jZ8fU71jiNVV3f7taAPsFd2sv67J=s64",
      "userId": "13981410561955150107"
     },
     "user_tz": -60
    },
    "id": "ygroyLSja8c4",
    "outputId": "1683131a-0a18-439c-8e99-874555a8a941"
   },
   "outputs": [
    {
     "name": "stdout",
     "output_type": "stream",
     "text": [
      "X_test: ['soccer', '-', 'japan', 'get', 'lucky', 'win', ',', 'china', 'in', 'surprise', 'defeat', '.']\n",
      "Y_test ['O', 'O', 'B-LOC', 'O', 'O', 'O', 'O', 'B-PER', 'O', 'O', 'O', 'O']\n"
     ]
    }
   ],
   "source": [
    "# Test\n",
    "X_test, Y_test = build_sequences(test_dict, key_x='form', key_y='ner')\n",
    "print('X_test:', X_test[1])\n",
    "print('Y_test', Y_test[1])"
   ]
  },
  {
   "cell_type": "code",
   "execution_count": 60,
   "metadata": {
    "executionInfo": {
     "elapsed": 829,
     "status": "ok",
     "timestamp": 1606398067825,
     "user": {
      "displayName": "Felicia Segui",
      "photoUrl": "https://lh3.googleusercontent.com/a-/AOh14Gi2D9zqN881jZ8fU71jiNVV3f7taAPsFd2sv67J=s64",
      "userId": "13981410561955150107"
     },
     "user_tz": -60
    },
    "id": "Vd5vKMqTa8c4"
   },
   "outputs": [],
   "source": [
    "# Write your code\n",
    "X_test_idx = []\n",
    "\n",
    "for sentence in X_test:\n",
    "  X_idx_temp = []\n",
    "\n",
    "  for word in sentence:\n",
    "\n",
    "    if word in word2idx:\n",
    "      X_idx_temp.append(word2idx[word])\n",
    "    \n",
    "    else:\n",
    "      X_idx_temp.append(1)\n",
    "  \n",
    "  X_test_idx.append(X_idx_temp)\n"
   ]
  },
  {
   "cell_type": "code",
   "execution_count": 61,
   "metadata": {
    "executionInfo": {
     "elapsed": 807,
     "status": "ok",
     "timestamp": 1606398071813,
     "user": {
      "displayName": "Felicia Segui",
      "photoUrl": "https://lh3.googleusercontent.com/a-/AOh14Gi2D9zqN881jZ8fU71jiNVV3f7taAPsFd2sv67J=s64",
      "userId": "13981410561955150107"
     },
     "user_tz": -60
    },
    "id": "cO45XRm3g5hz"
   },
   "outputs": [],
   "source": [
    "X_test_padded = pad_sequences(X_test_idx, maxlen = 150)"
   ]
  },
  {
   "cell_type": "code",
   "execution_count": 62,
   "metadata": {
    "colab": {
     "base_uri": "https://localhost:8080/"
    },
    "executionInfo": {
     "elapsed": 804,
     "status": "ok",
     "timestamp": 1606398073723,
     "user": {
      "displayName": "Felicia Segui",
      "photoUrl": "https://lh3.googleusercontent.com/a-/AOh14Gi2D9zqN881jZ8fU71jiNVV3f7taAPsFd2sv67J=s64",
      "userId": "13981410561955150107"
     },
     "user_tz": -60
    },
    "id": "A3ZFGjYXhDfq",
    "outputId": "9af4a645-318a-4101-e4af-d027491e5cc1"
   },
   "outputs": [
    {
     "name": "stdout",
     "output_type": "stream",
     "text": [
      "X_test_idx: [338644, 679, 197600, 162137, 229067, 390518, 517, 100680, 190291, 350949, 120818, 936]\n",
      "X_test_padded: [     0      0      0      0      0      0      0      0      0      0\n",
      "      0      0      0      0      0      0      0      0      0      0\n",
      "      0      0      0      0      0      0      0      0      0      0\n",
      "      0      0      0      0      0      0      0      0      0      0\n",
      "      0      0      0      0      0      0      0      0      0      0\n",
      "      0      0      0      0      0      0      0      0      0      0\n",
      "      0      0      0      0      0      0      0      0      0      0\n",
      "      0      0      0      0      0      0      0      0      0      0\n",
      "      0      0      0      0      0      0      0      0      0      0\n",
      "      0      0      0      0      0      0      0      0      0      0\n",
      "      0      0      0      0      0      0      0      0      0      0\n",
      "      0      0      0      0      0      0      0      0      0      0\n",
      "      0      0      0      0      0      0      0      0      0      0\n",
      "      0      0      0      0      0      0      0      0 338644    679\n",
      " 197600 162137 229067 390518    517 100680 190291 350949 120818    936]\n"
     ]
    }
   ],
   "source": [
    "print('X_test_idx:', X_test_idx[1])\n",
    "print('X_test_padded:', X_test_padded[1])"
   ]
  },
  {
   "cell_type": "code",
   "execution_count": 63,
   "metadata": {
    "colab": {
     "base_uri": "https://localhost:8080/"
    },
    "executionInfo": {
     "elapsed": 655,
     "status": "ok",
     "timestamp": 1606398077263,
     "user": {
      "displayName": "Felicia Segui",
      "photoUrl": "https://lh3.googleusercontent.com/a-/AOh14Gi2D9zqN881jZ8fU71jiNVV3f7taAPsFd2sv67J=s64",
      "userId": "13981410561955150107"
     },
     "user_tz": -60
    },
    "id": "aUevll2PhMOS",
    "outputId": "d1400e2c-d090-4579-c65e-8f4c892bd99b"
   },
   "outputs": [
    {
     "data": {
      "text/plain": [
       "(3684, 150)"
      ]
     },
     "execution_count": 63,
     "metadata": {
      "tags": []
     },
     "output_type": "execute_result"
    }
   ],
   "source": [
    "X_test_padded.shape"
   ]
  },
  {
   "cell_type": "markdown",
   "metadata": {
    "id": "1EF4HKcma8c4"
   },
   "source": [
    "Now predict the whole test set with `predict` and set the results in `Y_test_hat`"
   ]
  },
  {
   "cell_type": "code",
   "execution_count": 64,
   "metadata": {
    "executionInfo": {
     "elapsed": 2731,
     "status": "ok",
     "timestamp": 1606398080998,
     "user": {
      "displayName": "Felicia Segui",
      "photoUrl": "https://lh3.googleusercontent.com/a-/AOh14Gi2D9zqN881jZ8fU71jiNVV3f7taAPsFd2sv67J=s64",
      "userId": "13981410561955150107"
     },
     "user_tz": -60
    },
    "id": "4RCdqTp7a8c4"
   },
   "outputs": [],
   "source": [
    "# Write your code\n",
    "Y_test_hat = model.predict(X_test_padded)\n",
    "Y_test_hat_class = np.argmax(Y_test_hat , axis = -1)"
   ]
  },
  {
   "cell_type": "code",
   "execution_count": 65,
   "metadata": {
    "colab": {
     "base_uri": "https://localhost:8080/"
    },
    "executionInfo": {
     "elapsed": 689,
     "status": "ok",
     "timestamp": 1606398082330,
     "user": {
      "displayName": "Felicia Segui",
      "photoUrl": "https://lh3.googleusercontent.com/a-/AOh14Gi2D9zqN881jZ8fU71jiNVV3f7taAPsFd2sv67J=s64",
      "userId": "13981410561955150107"
     },
     "user_tz": -60
    },
    "id": "8z6-6DFmhrpF",
    "outputId": "d2de1851-16d7-49b1-bcd1-aa2b3d2fde22"
   },
   "outputs": [
    {
     "name": "stdout",
     "output_type": "stream",
     "text": [
      "X_test ['soccer', '-', 'japan', 'get', 'lucky', 'win', ',', 'china', 'in', 'surprise', 'defeat', '.']\n",
      "X_test_padded [     0      0      0      0      0      0      0      0      0      0\n",
      "      0      0      0      0      0      0      0      0      0      0\n",
      "      0      0      0      0      0      0      0      0      0      0\n",
      "      0      0      0      0      0      0      0      0      0      0\n",
      "      0      0      0      0      0      0      0      0      0      0\n",
      "      0      0      0      0      0      0      0      0      0      0\n",
      "      0      0      0      0      0      0      0      0      0      0\n",
      "      0      0      0      0      0      0      0      0      0      0\n",
      "      0      0      0      0      0      0      0      0      0      0\n",
      "      0      0      0      0      0      0      0      0      0      0\n",
      "      0      0      0      0      0      0      0      0      0      0\n",
      "      0      0      0      0      0      0      0      0      0      0\n",
      "      0      0      0      0      0      0      0      0      0      0\n",
      "      0      0      0      0      0      0      0      0 338644    679\n",
      " 197600 162137 229067 390518    517 100680 190291 350949 120818    936]\n",
      "Predictions [[2.0146353e-02 2.0236416e-02 1.0431867e-01 ... 9.6042037e-02\n",
      "  9.2284299e-02 1.2370761e-01]\n",
      " [2.0146353e-02 2.0236416e-02 1.0431867e-01 ... 9.6042037e-02\n",
      "  9.2284299e-02 1.2370761e-01]\n",
      " [2.0146353e-02 2.0236416e-02 1.0431867e-01 ... 9.6042037e-02\n",
      "  9.2284299e-02 1.2370761e-01]\n",
      " ...\n",
      " [2.0146353e-02 2.0236416e-02 1.0431867e-01 ... 9.6042037e-02\n",
      "  9.2284299e-02 1.2370761e-01]\n",
      " [2.0146353e-02 2.0236416e-02 1.0431867e-01 ... 9.6042037e-02\n",
      "  9.2284299e-02 1.2370761e-01]\n",
      " [9.5283681e-10 9.6485586e-10 9.6282609e-05 ... 4.1626146e-05\n",
      "  6.1612103e-05 9.9753344e-01]]\n",
      "Predictions [ 5  5  5  5  5  5  5  5  5  5  5  5  5  5  5  5  5  5  5  5  5  5  5  5\n",
      "  5  5  5  5  5  5  5  5  5  5  5  5  5  5  5  5  5  5  5  5  5  5  5  5\n",
      "  5  5  5  5  5  5  5  5  5  5  5  5  5  5  5  5  5  5  5  5  5  5  5  5\n",
      "  5  5  5  5  5  5  5  5  5  5  5  5  5  5  5  5  5  5  5  5  5  5  5  5\n",
      "  5  5  5  5  5  5  5  5  5  5  5  5  5  5  5  5  5  5  5  5  5  5  5  5\n",
      "  5  5  5  5  5  5  5  5  5  5  5  5  5  5  5  5  5  5  5  5  5  5  5  5\n",
      "  5  5  5  5  5 10]\n"
     ]
    }
   ],
   "source": [
    "print('X_test', X_test[1])\n",
    "print('X_test_padded', X_test_padded[1])\n",
    "print('Predictions', Y_test_hat[0])\n",
    "print('Predictions', Y_test_hat_class[0])"
   ]
  },
  {
   "cell_type": "markdown",
   "metadata": {
    "id": "3KvM6_9sa8c4"
   },
   "source": [
    "Extract the indices of the highest probabilities from the lists and convert them into NER values. Add them with the `pner` key to the dictionaries in the `test_dict` list."
   ]
  },
  {
   "cell_type": "code",
   "execution_count": 66,
   "metadata": {
    "executionInfo": {
     "elapsed": 698,
     "status": "ok",
     "timestamp": 1606398113704,
     "user": {
      "displayName": "Felicia Segui",
      "photoUrl": "https://lh3.googleusercontent.com/a-/AOh14Gi2D9zqN881jZ8fU71jiNVV3f7taAPsFd2sv67J=s64",
      "userId": "13981410561955150107"
     },
     "user_tz": -60
    },
    "id": "uScKQdMzlDny"
   },
   "outputs": [],
   "source": [
    "for i, sentence in enumerate(test_dict,0):\n",
    "\n",
    "  for j, word in enumerate(sentence,0):\n",
    "    word['pner'] = idx2ner[Y_test_hat_class[i][j-len(sentence)]]\n"
   ]
  },
  {
   "cell_type": "code",
   "execution_count": 67,
   "metadata": {
    "executionInfo": {
     "elapsed": 718,
     "status": "ok",
     "timestamp": 1606398116321,
     "user": {
      "displayName": "Felicia Segui",
      "photoUrl": "https://lh3.googleusercontent.com/a-/AOh14Gi2D9zqN881jZ8fU71jiNVV3f7taAPsFd2sv67J=s64",
      "userId": "13981410561955150107"
     },
     "user_tz": -60
    },
    "id": "3doGEEeNa8c4"
   },
   "outputs": [],
   "source": [
    "ARCH = '1'\n",
    "outfile = 'test' + ARCH + '.out'"
   ]
  },
  {
   "cell_type": "code",
   "execution_count": 68,
   "metadata": {
    "executionInfo": {
     "elapsed": 806,
     "status": "ok",
     "timestamp": 1606398118186,
     "user": {
      "displayName": "Felicia Segui",
      "photoUrl": "https://lh3.googleusercontent.com/a-/AOh14Gi2D9zqN881jZ8fU71jiNVV3f7taAPsFd2sv67J=s64",
      "userId": "13981410561955150107"
     },
     "user_tz": -60
    },
    "id": "D2BQ4wWya8c5"
   },
   "outputs": [],
   "source": [
    "column_names = ['form', 'ppos', 'pchunk', 'ner', 'pner']"
   ]
  },
  {
   "cell_type": "code",
   "execution_count": 69,
   "metadata": {
    "executionInfo": {
     "elapsed": 646,
     "status": "ok",
     "timestamp": 1606398119926,
     "user": {
      "displayName": "Felicia Segui",
      "photoUrl": "https://lh3.googleusercontent.com/a-/AOh14Gi2D9zqN881jZ8fU71jiNVV3f7taAPsFd2sv67J=s64",
      "userId": "13981410561955150107"
     },
     "user_tz": -60
    },
    "id": "z2trX0oUa8c5"
   },
   "outputs": [],
   "source": [
    "def save(file, corpus_dict, column_names):\n",
    "    \"\"\"\n",
    "    Saves the corpus in a file\n",
    "    :param file:\n",
    "    :param corpus_dict:\n",
    "    :param column_names:\n",
    "    :return:\n",
    "    \"\"\"\n",
    "    i = 0\n",
    "    with open(file, 'w', encoding='utf8') as f_out:\n",
    "        i += 1\n",
    "        for sentence in corpus_dict:\n",
    "            sentence_lst = []\n",
    "            for row in sentence:\n",
    "                items = map(lambda x: row.get(x, '_'), column_names)\n",
    "                sentence_lst += ' '.join(items) + '\\n'\n",
    "            sentence_lst += '\\n'\n",
    "            f_out.write(''.join(sentence_lst))"
   ]
  },
  {
   "cell_type": "code",
   "execution_count": 70,
   "metadata": {
    "executionInfo": {
     "elapsed": 732,
     "status": "ok",
     "timestamp": 1606398122100,
     "user": {
      "displayName": "Felicia Segui",
      "photoUrl": "https://lh3.googleusercontent.com/a-/AOh14Gi2D9zqN881jZ8fU71jiNVV3f7taAPsFd2sv67J=s64",
      "userId": "13981410561955150107"
     },
     "user_tz": -60
    },
    "id": "cBpVR2jfop6G"
   },
   "outputs": [],
   "source": [
    "file = '/content/drive/My Drive/Colab Notebooks/' + outfile"
   ]
  },
  {
   "cell_type": "code",
   "execution_count": 71,
   "metadata": {
    "executionInfo": {
     "elapsed": 658,
     "status": "ok",
     "timestamp": 1606398123431,
     "user": {
      "displayName": "Felicia Segui",
      "photoUrl": "https://lh3.googleusercontent.com/a-/AOh14Gi2D9zqN881jZ8fU71jiNVV3f7taAPsFd2sv67J=s64",
      "userId": "13981410561955150107"
     },
     "user_tz": -60
    },
    "id": "zQoUVjBupaGV"
   },
   "outputs": [],
   "source": [
    "save(file, test_dict, column_names)"
   ]
  },
  {
   "cell_type": "code",
   "execution_count": 72,
   "metadata": {
    "colab": {
     "base_uri": "https://localhost:8080/"
    },
    "executionInfo": {
     "elapsed": 1135,
     "status": "ok",
     "timestamp": 1606398125948,
     "user": {
      "displayName": "Felicia Segui",
      "photoUrl": "https://lh3.googleusercontent.com/a-/AOh14Gi2D9zqN881jZ8fU71jiNVV3f7taAPsFd2sv67J=s64",
      "userId": "13981410561955150107"
     },
     "user_tz": -60
    },
    "id": "bDsdY02qpHJ2",
    "outputId": "3820ac80-6025-4cf3-ad49-9a9470365008"
   },
   "outputs": [
    {
     "data": {
      "text/plain": [
       "0.7408634976013956"
      ]
     },
     "execution_count": 72,
     "metadata": {
      "tags": []
     },
     "output_type": "execute_result"
    }
   ],
   "source": [
    "lines = open(file, encoding='utf8').read().splitlines()\n",
    "res = conlleval.evaluate(lines)\n",
    "baseline_score = res['overall']['chunks']['evals']['f1']\n",
    "baseline_score"
   ]
  },
  {
   "cell_type": "markdown",
   "metadata": {
    "id": "ut7pwQC-a8c5"
   },
   "source": [
    "## Building a LSTM Network"
   ]
  },
  {
   "cell_type": "markdown",
   "metadata": {
    "id": "r3Pcpsdda8c5"
   },
   "source": [
    "1. Create a simple LSTM network and train a model with the train set. As layers, you will use <tt>Embedding</tt>, <tt>LSTM</tt>, and <tt>Dense</tt>.\n",
    "2. Apply conlleval to your output. Report the F1 result.\n",
    "3. Try to improve your model by modifying some parameters, adding layers, adding <tt>Bidirectional</tt>, <tt>Dropout</tt>, possibly mixing <tt>SimpleRNN</tt>.\n",
    "4. Apply your network to the test set and report the accuracy you obtained. you need to reach a F1 of 82 to pass."
   ]
  },
  {
   "cell_type": "code",
   "execution_count": null,
   "metadata": {
    "colab": {
     "base_uri": "https://localhost:8080/"
    },
    "executionInfo": {
     "elapsed": 2159,
     "status": "ok",
     "timestamp": 1606391206311,
     "user": {
      "displayName": "Felicia Segui",
      "photoUrl": "https://lh3.googleusercontent.com/a-/AOh14Gi2D9zqN881jZ8fU71jiNVV3f7taAPsFd2sv67J=s64",
      "userId": "13981410561955150107"
     },
     "user_tz": -60
    },
    "id": "cuZjjGXVoxT7",
    "outputId": "bd382219-669b-4983-a273-b3dae69dfce2"
   },
   "outputs": [
    {
     "name": "stdout",
     "output_type": "stream",
     "text": [
      "Model: \"sequential_7\"\n",
      "_________________________________________________________________\n",
      "Layer (type)                 Output Shape              Param #   \n",
      "=================================================================\n",
      "embedding_7 (Embedding)      (None, 150, 100)          40259700  \n",
      "_________________________________________________________________\n",
      "lstm_5 (LSTM)                (None, 150, 32)           17024     \n",
      "_________________________________________________________________\n",
      "dense_7 (Dense)              (None, 150, 11)           363       \n",
      "=================================================================\n",
      "Total params: 40,277,087\n",
      "Trainable params: 17,387\n",
      "Non-trainable params: 40,259,700\n",
      "_________________________________________________________________\n"
     ]
    }
   ],
   "source": [
    "# ORIGINAL MODEL\n",
    "model2 = Sequential()\n",
    "model2.add(Embedding(max_features, arraylen, input_length = max_len, weights = [embedding_matrix], trainable = False, mask_zero = True))\n",
    "model2.add(LSTM(32, return_sequences=True))\n",
    "model2.add(Dense(11, activation = 'softmax'))\n",
    "model2.summary()"
   ]
  },
  {
   "cell_type": "code",
   "execution_count": 73,
   "metadata": {
    "colab": {
     "base_uri": "https://localhost:8080/"
    },
    "executionInfo": {
     "elapsed": 3012,
     "status": "ok",
     "timestamp": 1606398161560,
     "user": {
      "displayName": "Felicia Segui",
      "photoUrl": "https://lh3.googleusercontent.com/a-/AOh14Gi2D9zqN881jZ8fU71jiNVV3f7taAPsFd2sv67J=s64",
      "userId": "13981410561955150107"
     },
     "user_tz": -60
    },
    "id": "39bFg0V1a8c5",
    "outputId": "3d1c75d3-5205-456b-dabc-59f329443582"
   },
   "outputs": [
    {
     "name": "stdout",
     "output_type": "stream",
     "text": [
      "Model: \"sequential_1\"\n",
      "_________________________________________________________________\n",
      "Layer (type)                 Output Shape              Param #   \n",
      "=================================================================\n",
      "embedding_1 (Embedding)      (None, 150, 100)          40259700  \n",
      "_________________________________________________________________\n",
      "dropout (Dropout)            (None, 150, 100)          0         \n",
      "_________________________________________________________________\n",
      "bidirectional (Bidirectional (None, 150, 200)          160800    \n",
      "_________________________________________________________________\n",
      "dropout_1 (Dropout)          (None, 150, 200)          0         \n",
      "_________________________________________________________________\n",
      "dense_1 (Dense)              (None, 150, 11)           2211      \n",
      "=================================================================\n",
      "Total params: 40,422,711\n",
      "Trainable params: 163,011\n",
      "Non-trainable params: 40,259,700\n",
      "_________________________________________________________________\n"
     ]
    }
   ],
   "source": [
    "# IMPROVED\n",
    "model2 = Sequential()\n",
    "model2.add(Embedding(max_features, arraylen, input_length = max_len, weights = [embedding_matrix], trainable = False, mask_zero = True))\n",
    "model2.add(Dropout(0.2)) # Improving the model by adding this\n",
    "model2.add(Bidirectional(LSTM(100, return_sequences=True))) # Improving the model by adding this\n",
    "model2.add(Dropout(0.2))# Improving the model by adding this\n",
    "model2.add(Dense(11, activation='softmax'))\n",
    "model2.summary()"
   ]
  },
  {
   "cell_type": "code",
   "execution_count": 74,
   "metadata": {
    "executionInfo": {
     "elapsed": 864,
     "status": "ok",
     "timestamp": 1606398162369,
     "user": {
      "displayName": "Felicia Segui",
      "photoUrl": "https://lh3.googleusercontent.com/a-/AOh14Gi2D9zqN881jZ8fU71jiNVV3f7taAPsFd2sv67J=s64",
      "userId": "13981410561955150107"
     },
     "user_tz": -60
    },
    "id": "u5xhud_-x-3C"
   },
   "outputs": [],
   "source": [
    "model2.compile(optimizer='rmsprop', loss='categorical_crossentropy', metrics=['acc'])"
   ]
  },
  {
   "cell_type": "code",
   "execution_count": 75,
   "metadata": {
    "colab": {
     "base_uri": "https://localhost:8080/"
    },
    "executionInfo": {
     "elapsed": 1408137,
     "status": "ok",
     "timestamp": 1606402079055,
     "user": {
      "displayName": "Felicia Segui",
      "photoUrl": "https://lh3.googleusercontent.com/a-/AOh14Gi2D9zqN881jZ8fU71jiNVV3f7taAPsFd2sv67J=s64",
      "userId": "13981410561955150107"
     },
     "user_tz": -60
    },
    "id": "NjiLHVJtyBfx",
    "outputId": "0bfc6185-5405-401f-8db2-450c135e97cb"
   },
   "outputs": [
    {
     "name": "stdout",
     "output_type": "stream",
     "text": [
      "Epoch 1/15\n",
      "469/469 [==============================] - 277s 590ms/step - loss: 0.0301 - acc: 0.9080 - val_loss: 0.0341 - val_acc: 0.9367\n",
      "Epoch 2/15\n",
      "469/469 [==============================] - 262s 559ms/step - loss: 0.0159 - acc: 0.9488 - val_loss: 0.0318 - val_acc: 0.9509\n",
      "Epoch 3/15\n",
      "469/469 [==============================] - 261s 556ms/step - loss: 0.0127 - acc: 0.9584 - val_loss: 0.0320 - val_acc: 0.9547\n",
      "Epoch 4/15\n",
      "469/469 [==============================] - 259s 553ms/step - loss: 0.0109 - acc: 0.9641 - val_loss: 0.0311 - val_acc: 0.9579\n",
      "Epoch 5/15\n",
      "469/469 [==============================] - 259s 552ms/step - loss: 0.0098 - acc: 0.9677 - val_loss: 0.0312 - val_acc: 0.9588\n",
      "Epoch 6/15\n",
      "469/469 [==============================] - 258s 551ms/step - loss: 0.0088 - acc: 0.9705 - val_loss: 0.0303 - val_acc: 0.9615\n",
      "Epoch 7/15\n",
      "469/469 [==============================] - 259s 551ms/step - loss: 0.0081 - acc: 0.9731 - val_loss: 0.0301 - val_acc: 0.9619\n",
      "Epoch 8/15\n",
      "469/469 [==============================] - 259s 552ms/step - loss: 0.0075 - acc: 0.9747 - val_loss: 0.0307 - val_acc: 0.9614\n",
      "Epoch 9/15\n",
      "469/469 [==============================] - 258s 550ms/step - loss: 0.0071 - acc: 0.9760 - val_loss: 0.0302 - val_acc: 0.9621\n",
      "Epoch 10/15\n",
      "469/469 [==============================] - 260s 553ms/step - loss: 0.0065 - acc: 0.9773 - val_loss: 0.0305 - val_acc: 0.9626\n",
      "Epoch 11/15\n",
      "469/469 [==============================] - 260s 554ms/step - loss: 0.0061 - acc: 0.9791 - val_loss: 0.0295 - val_acc: 0.9639\n",
      "Epoch 12/15\n",
      "469/469 [==============================] - 259s 552ms/step - loss: 0.0058 - acc: 0.9803 - val_loss: 0.0298 - val_acc: 0.9635\n",
      "Epoch 13/15\n",
      "469/469 [==============================] - 257s 548ms/step - loss: 0.0054 - acc: 0.9810 - val_loss: 0.0306 - val_acc: 0.9635\n",
      "Epoch 14/15\n",
      "469/469 [==============================] - 256s 547ms/step - loss: 0.0051 - acc: 0.9820 - val_loss: 0.0297 - val_acc: 0.9645\n",
      "Epoch 15/15\n",
      "469/469 [==============================] - 257s 548ms/step - loss: 0.0048 - acc: 0.9831 - val_loss: 0.0299 - val_acc: 0.9645\n"
     ]
    }
   ],
   "source": [
    "history = model2.fit(X_train, y_train,\n",
    "                    epochs=15,\n",
    "                    batch_size=32, validation_data=(X_dev_padded, y_dev))"
   ]
  },
  {
   "cell_type": "markdown",
   "metadata": {
    "id": "lCXYUj2Aa8c5"
   },
   "source": [
    "Compile and fit it"
   ]
  },
  {
   "cell_type": "markdown",
   "metadata": {
    "id": "uKsgXhELa8c5"
   },
   "source": [
    "Create a figure to show the training and validation losses and accuracies and comment on a possible overfit."
   ]
  },
  {
   "cell_type": "code",
   "execution_count": null,
   "metadata": {
    "colab": {
     "base_uri": "https://localhost:8080/",
     "height": 543
    },
    "executionInfo": {
     "elapsed": 2320,
     "status": "ok",
     "timestamp": 1606394917282,
     "user": {
      "displayName": "Felicia Segui",
      "photoUrl": "https://lh3.googleusercontent.com/a-/AOh14Gi2D9zqN881jZ8fU71jiNVV3f7taAPsFd2sv67J=s64",
      "userId": "13981410561955150107"
     },
     "user_tz": -60
    },
    "id": "FsaoGGcFa8c5",
    "outputId": "5dc2d42e-6351-4b94-dd81-58d66ef8e84f"
   },
   "outputs": [
    {
     "data": {
      "image/png": "[encoded data removed]",
      "text/plain": [
       "<Figure size 432x288 with 1 Axes>"
      ]
     },
     "metadata": {
      "needs_background": "light",
      "tags": []
     },
     "output_type": "display_data"
    },
    {
     "data": {
      "image/png": "[encoded data removed]",
      "text/plain": [
       "<Figure size 432x288 with 1 Axes>"
      ]
     },
     "metadata": {
      "needs_background": "light",
      "tags": []
     },
     "output_type": "display_data"
    }
   ],
   "source": [
    "#ORIGINAL\n",
    "acc = history.history['acc']\n",
    "val_acc = history.history['val_acc']\n",
    "loss = history.history['loss']\n",
    "val_loss = history.history['val_loss']\n",
    "\n",
    "epochs = range(len(acc))\n",
    "\n",
    "plt.plot(epochs, acc, 'bo', label='Training acc')\n",
    "plt.plot(epochs, val_acc, 'b', label='Validation acc')\n",
    "plt.title('Training and validation accuracy')\n",
    "plt.legend()\n",
    "\n",
    "plt.figure()\n",
    "\n",
    "plt.plot(epochs, loss, 'bo', label='Training loss')\n",
    "plt.plot(epochs, val_loss, 'b', label='Validation loss')\n",
    "plt.title('Training and validation loss')\n",
    "plt.legend()\n",
    "\n",
    "plt.show()"
   ]
  },
  {
   "cell_type": "code",
   "execution_count": 76,
   "metadata": {
    "colab": {
     "base_uri": "https://localhost:8080/",
     "height": 543
    },
    "executionInfo": {
     "elapsed": 1449,
     "status": "ok",
     "timestamp": 1606402097165,
     "user": {
      "displayName": "Felicia Segui",
      "photoUrl": "https://lh3.googleusercontent.com/a-/AOh14Gi2D9zqN881jZ8fU71jiNVV3f7taAPsFd2sv67J=s64",
      "userId": "13981410561955150107"
     },
     "user_tz": -60
    },
    "id": "1JE6yTal89Ky",
    "outputId": "d298c1b2-5917-4d28-ca7c-0789ebc28ae9"
   },
   "outputs": [
    {
     "data": {
      "image/png": "[encoded data removed]",
      "text/plain": [
       "<Figure size 432x288 with 1 Axes>"
      ]
     },
     "metadata": {
      "needs_background": "light",
      "tags": []
     },
     "output_type": "display_data"
    },
    {
     "data": {
      "image/png": "[encoded data removed]",
      "text/plain": [
       "<Figure size 432x288 with 1 Axes>"
      ]
     },
     "metadata": {
      "needs_background": "light",
      "tags": []
     },
     "output_type": "display_data"
    }
   ],
   "source": [
    "#IMPROVED\n",
    "acc = history.history['acc']\n",
    "val_acc = history.history['val_acc']\n",
    "loss = history.history['loss']\n",
    "val_loss = history.history['val_loss']\n",
    "\n",
    "epochs = range(len(acc))\n",
    "\n",
    "plt.plot(epochs, acc, 'bo', label='Training acc')\n",
    "plt.plot(epochs, val_acc, 'b', label='Validation acc')\n",
    "plt.title('Training and validation accuracy')\n",
    "plt.legend()\n",
    "\n",
    "plt.figure()\n",
    "\n",
    "plt.plot(epochs, loss, 'bo', label='Training loss')\n",
    "plt.plot(epochs, val_loss, 'b', label='Validation loss')\n",
    "plt.title('Training and validation loss')\n",
    "plt.legend()\n",
    "\n",
    "plt.show()"
   ]
  },
  {
   "cell_type": "markdown",
   "metadata": {
    "id": "ufEZd_SKa8c6"
   },
   "source": [
    "Predict the NER sequence"
   ]
  },
  {
   "cell_type": "code",
   "execution_count": 77,
   "metadata": {
    "colab": {
     "base_uri": "https://localhost:8080/"
    },
    "executionInfo": {
     "elapsed": 986,
     "status": "ok",
     "timestamp": 1606402101735,
     "user": {
      "displayName": "Felicia Segui",
      "photoUrl": "https://lh3.googleusercontent.com/a-/AOh14Gi2D9zqN881jZ8fU71jiNVV3f7taAPsFd2sv67J=s64",
      "userId": "13981410561955150107"
     },
     "user_tz": -60
    },
    "id": "8z9hzHNGa8c6",
    "outputId": "26e36b9a-d01d-438f-968e-55af6dab2170"
   },
   "outputs": [
    {
     "name": "stdout",
     "output_type": "stream",
     "text": [
      "X_test: ['soccer', '-', 'japan', 'get', 'lucky', 'win', ',', 'china', 'in', 'surprise', 'defeat', '.']\n",
      "Y_test ['O', 'O', 'B-LOC', 'O', 'O', 'O', 'O', 'B-PER', 'O', 'O', 'O', 'O']\n"
     ]
    }
   ],
   "source": [
    "# Test\n",
    "X_test, Y_test = build_sequences(test_dict, key_x='form', key_y='ner')\n",
    "print('X_test:', X_test[1])\n",
    "print('Y_test', Y_test[1])"
   ]
  },
  {
   "cell_type": "code",
   "execution_count": 78,
   "metadata": {
    "executionInfo": {
     "elapsed": 780,
     "status": "ok",
     "timestamp": 1606402103585,
     "user": {
      "displayName": "Felicia Segui",
      "photoUrl": "https://lh3.googleusercontent.com/a-/AOh14Gi2D9zqN881jZ8fU71jiNVV3f7taAPsFd2sv67J=s64",
      "userId": "13981410561955150107"
     },
     "user_tz": -60
    },
    "id": "wR-NRHG9FIrH"
   },
   "outputs": [],
   "source": [
    "X_test_idx = []\n",
    "\n",
    "for sentence in X_test:\n",
    "  X_idx_temp = []\n",
    "\n",
    "  for word in sentence:\n",
    "\n",
    "    if word in word2idx:\n",
    "      X_idx_temp.append(word2idx[word])\n",
    "    \n",
    "    else:\n",
    "      X_idx_temp.append(1)\n",
    "  \n",
    "  X_test_idx.append(X_idx_temp)\n",
    "\n",
    "X_test_padded = pad_sequences(X_test_idx, maxlen = 150)\n"
   ]
  },
  {
   "cell_type": "code",
   "execution_count": 79,
   "metadata": {
    "executionInfo": {
     "elapsed": 10660,
     "status": "ok",
     "timestamp": 1606402115768,
     "user": {
      "displayName": "Felicia Segui",
      "photoUrl": "https://lh3.googleusercontent.com/a-/AOh14Gi2D9zqN881jZ8fU71jiNVV3f7taAPsFd2sv67J=s64",
      "userId": "13981410561955150107"
     },
     "user_tz": -60
    },
    "id": "czFnYhCSFbBM"
   },
   "outputs": [],
   "source": [
    "Y_test_hat = model2.predict(X_test_padded)\n",
    "Y_test_hat_class = np.argmax(Y_test_hat , axis = -1)"
   ]
  },
  {
   "cell_type": "markdown",
   "metadata": {
    "id": "5rmrEv_la8c6"
   },
   "source": [
    "Extract the indices of the highest probabilities from the lists and convert them into NER values. Add them with the `pner` key to the dictionaries in the `test_dict` list."
   ]
  },
  {
   "cell_type": "code",
   "execution_count": 80,
   "metadata": {
    "colab": {
     "base_uri": "https://localhost:8080/"
    },
    "executionInfo": {
     "elapsed": 6708,
     "status": "ok",
     "timestamp": 1606402115769,
     "user": {
      "displayName": "Felicia Segui",
      "photoUrl": "https://lh3.googleusercontent.com/a-/AOh14Gi2D9zqN881jZ8fU71jiNVV3f7taAPsFd2sv67J=s64",
      "userId": "13981410561955150107"
     },
     "user_tz": -60
    },
    "id": "XNZAwmm1ns2P",
    "outputId": "bb0de9b0-7d30-430c-b39e-2e50d6ca4997"
   },
   "outputs": [
    {
     "data": {
      "text/plain": [
       "array([10, 10, 10, 10, 10, 10, 10, 10, 10, 10, 10, 10, 10, 10, 10, 10, 10,\n",
       "       10, 10, 10, 10, 10, 10, 10, 10, 10, 10, 10, 10, 10, 10, 10, 10, 10,\n",
       "       10, 10, 10, 10, 10, 10, 10, 10, 10, 10, 10, 10, 10, 10, 10, 10, 10,\n",
       "       10, 10, 10, 10, 10, 10, 10, 10, 10, 10, 10, 10, 10, 10, 10, 10, 10,\n",
       "       10, 10, 10, 10, 10, 10, 10, 10, 10, 10, 10, 10, 10, 10, 10, 10, 10,\n",
       "       10, 10, 10, 10, 10, 10, 10, 10, 10, 10, 10, 10, 10, 10, 10, 10, 10,\n",
       "       10, 10, 10, 10, 10, 10, 10, 10, 10, 10, 10, 10, 10, 10, 10, 10, 10,\n",
       "       10, 10, 10, 10, 10, 10, 10, 10, 10, 10, 10, 10, 10, 10,  2, 10, 10,\n",
       "       10, 10, 10, 10, 10, 10, 10, 10, 10, 10, 10, 10,  2, 10])"
      ]
     },
     "execution_count": 80,
     "metadata": {
      "tags": []
     },
     "output_type": "execute_result"
    }
   ],
   "source": [
    "Y_test_hat_class[10]"
   ]
  },
  {
   "cell_type": "code",
   "execution_count": 81,
   "metadata": {
    "executionInfo": {
     "elapsed": 2253,
     "status": "ok",
     "timestamp": 1606402115770,
     "user": {
      "displayName": "Felicia Segui",
      "photoUrl": "https://lh3.googleusercontent.com/a-/AOh14Gi2D9zqN881jZ8fU71jiNVV3f7taAPsFd2sv67J=s64",
      "userId": "13981410561955150107"
     },
     "user_tz": -60
    },
    "id": "6VkDsTaGT8Y-"
   },
   "outputs": [],
   "source": [
    "for i, sentence in enumerate(test_dict,0):\n",
    "\n",
    "  for j, word in enumerate(sentence,0):\n",
    "    word['pner'] = idx2ner[Y_test_hat_class[i][j-len(sentence)]]\n"
   ]
  },
  {
   "cell_type": "code",
   "execution_count": 82,
   "metadata": {
    "executionInfo": {
     "elapsed": 1010,
     "status": "ok",
     "timestamp": 1606402115771,
     "user": {
      "displayName": "Felicia Segui",
      "photoUrl": "https://lh3.googleusercontent.com/a-/AOh14Gi2D9zqN881jZ8fU71jiNVV3f7taAPsFd2sv67J=s64",
      "userId": "13981410561955150107"
     },
     "user_tz": -60
    },
    "id": "isHuP5f8a8c6"
   },
   "outputs": [],
   "source": [
    "ARCH = '4'\n",
    "outfile = 'test' + ARCH + '.out'"
   ]
  },
  {
   "cell_type": "code",
   "execution_count": 83,
   "metadata": {
    "executionInfo": {
     "elapsed": 753,
     "status": "ok",
     "timestamp": 1606402117130,
     "user": {
      "displayName": "Felicia Segui",
      "photoUrl": "https://lh3.googleusercontent.com/a-/AOh14Gi2D9zqN881jZ8fU71jiNVV3f7taAPsFd2sv67J=s64",
      "userId": "13981410561955150107"
     },
     "user_tz": -60
    },
    "id": "0HHxvkv8a8c6"
   },
   "outputs": [],
   "source": [
    "save(outfile, test_dict, column_names)"
   ]
  },
  {
   "cell_type": "code",
   "execution_count": 85,
   "metadata": {
    "colab": {
     "base_uri": "https://localhost:8080/"
    },
    "executionInfo": {
     "elapsed": 629,
     "status": "ok",
     "timestamp": 1606402133027,
     "user": {
      "displayName": "Felicia Segui",
      "photoUrl": "https://lh3.googleusercontent.com/a-/AOh14Gi2D9zqN881jZ8fU71jiNVV3f7taAPsFd2sv67J=s64",
      "userId": "13981410561955150107"
     },
     "user_tz": -60
    },
    "id": "9CxETMcQa8c6",
    "outputId": "5477ef8d-cdf4-400f-e1c1-ba9e3d64be19"
   },
   "outputs": [
    {
     "data": {
      "text/plain": [
       "0.8464115676247576"
      ]
     },
     "execution_count": 85,
     "metadata": {
      "tags": []
     },
     "output_type": "execute_result"
    }
   ],
   "source": [
    "lines = open(outfile, encoding='utf8').read().splitlines()\n",
    "res = conlleval.evaluate(lines)\n",
    "improved_score = res['overall']['chunks']['evals']['f1']\n",
    "improved_score"
   ]
  },
  {
   "cell_type": "markdown",
   "metadata": {
    "id": "-MKwu38_a8c6"
   },
   "source": [
    "You need to reach 82 to pass the assignment."
   ]
  },
  {
   "cell_type": "code",
   "execution_count": null,
   "metadata": {
    "id": "dA3ETGpPa8c6"
   },
   "outputs": [],
   "source": []
  }
 ],
 "metadata": {
  "accelerator": "GPU",
  "colab": {
   "collapsed_sections": [
    "YNU8M-wxa8cu",
    "JsbyoHP1a8cw",
    "pDNl1x2ua8cx",
    "olIqZB7Ga8cy",
    "j7BcrLOpa8cy",
    "7Pholgfta8cz",
    "xuemMtWza8cz",
    "lUY2AU-4a8c1",
    "CuqQgfMka8c2"
   ],
   "name": "4.0-ner_students.ipynb",
   "provenance": []
  },
  "kernelspec": {
   "display_name": "Python 3",
   "language": "python",
   "name": "python3"
  },
  "language_info": {
   "codemirror_mode": {
    "name": "ipython",
    "version": 3
   },
   "file_extension": ".py",
   "mimetype": "text/x-python",
   "name": "python",
   "nbconvert_exporter": "python",
   "pygments_lexer": "ipython3",
   "version": "3.8.5"
  }
 },
 "nbformat": 4,
 "nbformat_minor": 1
}
