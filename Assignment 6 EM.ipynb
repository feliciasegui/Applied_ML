{
 "cells": [
  {
   "cell_type": "markdown",
   "metadata": {},
   "source": [
    "# 1. Imports and dataset\n"
   ]
  },
  {
   "cell_type": "code",
   "execution_count": 157,
   "metadata": {},
   "outputs": [],
   "source": [
    "from sklearn import datasets, metrics\n",
    "import numpy as np"
   ]
  },
  {
   "cell_type": "code",
   "execution_count": 158,
   "metadata": {},
   "outputs": [],
   "source": [
    "digits = datasets.load_digits()\n",
    "num_split = int(0.7 * len(digits.data))\n",
    "train_features = digits.data[:num_split]  # train data (features)\n",
    "train_labels = digits.target[:num_split]  # train labels (y-values)\n",
    "test_features = digits.data[num_split:]  # test data (features)\n",
    "test_labels = digits.target[num_split:]  # test labels(y-values)"
   ]
  },
  {
   "cell_type": "code",
   "execution_count": 159,
   "metadata": {},
   "outputs": [],
   "source": [
    "# Normalizing the train dataset to values between 0 and 1\n",
    "for i in range(len(train_features)):\n",
    "    for j in range(len(train_features[i])):\n",
    "        train_features[i][j] /=16"
   ]
  },
  {
   "cell_type": "markdown",
   "metadata": {},
   "source": [
    "# 2. EM-algorithm to find a Gaussian NBC\n",
    "- Assume conditional independence (covariance = variance for the attribute)\n",
    "- Normalize the data to avoid multiplications with very small values in the likelihoods\n",
    "- You can use the overall change in cluster centers between two iterations as a stop criterion. Minimal movement: assume convergence\n",
    "- Make sure dimensions of covariance matrix are correct, possible to only calculate the diagonal"
   ]
  },
  {
   "cell_type": "code",
   "execution_count": 343,
   "metadata": {},
   "outputs": [],
   "source": [
    "class EM_:\n",
    "    \n",
    "    def __init__(self, X, K):\n",
    "        \n",
    "        # Initialize prior probs, means and covariances\n",
    "        self.prior = np.ones(K)/K\n",
    "        self.means = np.zeros([K, len(X[0])])\n",
    "        self.cov = np.ones([K, len(X[0])])*0.1\n",
    "        self.r = np.zeros([len(X), K])\n",
    "\n",
    "        # Creating subsets\n",
    "        subset = []\n",
    "        start = 0\n",
    "        end = int(len(X))/K\n",
    "        for i in range(K):\n",
    "            subset.append(X[start:int((i+1)*end)])\n",
    "            start = int((i+1)*end)\n",
    "        \n",
    "        # Calculating first means\n",
    "        for k,subs in enumerate(subset):\n",
    "            N = len(subs)\n",
    "            for j, image in enumerate(subs):\n",
    "                for h, pixel in enumerate(image):\n",
    "                    self.means[k][h] +=pixel/N \n",
    "\n",
    "                \n",
    "        # Initiating covariances (variances here)\n",
    "        for i,subs in enumerate(subset):\n",
    "            N = len(subs)\n",
    "            for j, image in enumerate(subs):\n",
    "                for h, pixel in enumerate(image):\n",
    "                    self.cov[i][h] += ((pixel-self.means[i][h])**2)/N\n",
    "    \n",
    "    \n",
    "        \n",
    "    def fit(self, X, K):\n",
    "        diff = 10\n",
    "        nr_it = 0\n",
    "        mean_last_step = self.means.copy()\n",
    "        while nr_it<10: # Will change to diff>0.1 or similar\n",
    "            nr_it +=1\n",
    "                \n",
    "            # E-step\n",
    "            EM_.E_step_(self,X,K,nr_it)\n",
    "                \n",
    "            # M-step\n",
    "            EM_.M_step_(self,X, K)\n",
    "                \n",
    "            diff  = np.linalg.norm(mean_last_step-self.means)\n",
    "            mean_last_step = self.means.copy()\n",
    "            print('Iteration: ' , nr_it, 'Diff: ', diff)\n",
    "                \n",
    "            \n",
    "        return\n",
    "                \n",
    "        \n",
    "    def E_step_(self,X,K, nr_it):\n",
    "        cov = self.cov\n",
    "        means = self.means\n",
    "        prior = self.prior\n",
    "\n",
    "        if nr_it > 14:\n",
    "            print('cov', cov)\n",
    "            print('means', means)\n",
    "            print('prior', prior)\n",
    "        # Iterating through all images and for each image we iterate through all classes\n",
    "        for i,image in enumerate(X):\n",
    "\n",
    "            expected = np.zeros(K) \n",
    "        \n",
    "            for k in range(K):\n",
    "                # Calculating the bessel probability P(xi|ø)\n",
    "                prob = 1\n",
    "                \n",
    "                for p, pixel in enumerate(image):\n",
    "                    prob *= 1/(np.sqrt(2*np.pi*cov[k][p])) * np.exp(-(pixel-means[k][p])**2/(2*cov[k][p]))\n",
    "                    \n",
    "                        \n",
    "                expected[k] = prior[k]*prob \n",
    "                \n",
    "            ri = expected/sum(expected)\n",
    "            self.r[i] = ri \n",
    "\n",
    "            \n",
    "            \n",
    "            \n",
    "        return\n",
    "        \n",
    "    def M_step_(self, X, K):\n",
    "            \n",
    "        # Computing r_k\n",
    "        r_k = np.zeros([K])\n",
    "        for i, image in enumerate(self.r):\n",
    "            for k, prob in enumerate(image):\n",
    "                r_k[k] += prob\n",
    "    \n",
    "        # Computing new prior probabilities\n",
    "        self.prior = r_k / len(X)\n",
    "        \n",
    "        # Updating means\n",
    "        for k in range(K):\n",
    "            mean_k = 0\n",
    "            for i, image in enumerate(X):\n",
    "                mean_k += self.r[i][k] * image\n",
    "            self.means[k] = mean_k/r_k[k]\n",
    "        \n",
    "        # Updating covariances\n",
    "        for k in range(K):\n",
    "            cov_k = np.ones([len(X[0])])*0.1 \n",
    "            for i, image in enumerate(X):\n",
    "                cov_k += self.r[i][k] * image**2\n",
    "            self.cov[k] = cov_k/r_k[k] - self.means[k]**2\n",
    "            \n",
    "        \n",
    "            \n",
    "        return\n",
    "    \n",
    "    \n",
    "    def predict_(self,X):\n",
    "        predictions = []\n",
    "        prior = self.prior\n",
    "        cov = self.cov\n",
    "        means = self.means\n",
    "        \n",
    "        # Iterating through all images\n",
    "        for image in X:\n",
    "            probability_values = np.zeros(len(prior))\n",
    "        \n",
    "            # Iterating through all possible classes with their prior probabilities and multiply probabilities corresponding to the class \n",
    "            for k,prior_prob in enumerate(prior):\n",
    "                probability_values[k] = prior_prob\n",
    "            \n",
    "                # Iterating through the image's pixels\n",
    "                for p, pixel in enumerate(image):\n",
    "                    probability_values[k] *= 1/(np.sqrt(2*np.pi*cov[k][p])) * np.exp(-(pixel-means[k][p])**2/(2*cov[k][p]))\n",
    "    \n",
    "            # Appending the class with highest probability\n",
    "            predictions.append(np.argmax(probability_values))\n",
    "\n",
    "        return predictions\n",
    "            \n",
    "        "
   ]
  },
  {
   "cell_type": "code",
   "execution_count": 344,
   "metadata": {},
   "outputs": [],
   "source": [
    "EM = EM_(train_features, 10)"
   ]
  },
  {
   "cell_type": "code",
   "execution_count": 345,
   "metadata": {
    "scrolled": false
   },
   "outputs": [
    {
     "name": "stdout",
     "output_type": "stream",
     "text": [
      "Iteration:  1 Diff:  1.210593924688377\n",
      "Iteration:  2 Diff:  1.8830501693258805\n",
      "Iteration:  3 Diff:  2.085428849197478\n",
      "Iteration:  4 Diff:  1.26708945986675\n",
      "Iteration:  5 Diff:  3.021430573825891\n"
     ]
    },
    {
     "name": "stderr",
     "output_type": "stream",
     "text": [
      "/opt/anaconda3/lib/python3.7/site-packages/ipykernel_launcher.py:105: RuntimeWarning: invalid value encountered in true_divide\n",
      "/opt/anaconda3/lib/python3.7/site-packages/ipykernel_launcher.py:112: RuntimeWarning: divide by zero encountered in true_divide\n"
     ]
    },
    {
     "name": "stdout",
     "output_type": "stream",
     "text": [
      "Iteration:  6 Diff:  nan\n",
      "Iteration:  7 Diff:  nan\n",
      "Iteration:  8 Diff:  nan\n",
      "Iteration:  9 Diff:  nan\n",
      "Iteration:  10 Diff:  nan\n"
     ]
    }
   ],
   "source": [
    "EM.fit(train_features,10)"
   ]
  },
  {
   "cell_type": "code",
   "execution_count": 326,
   "metadata": {
    "scrolled": false
   },
   "outputs": [],
   "source": [
    "pred = EM.predict_(train_features)"
   ]
  },
  {
   "cell_type": "markdown",
   "metadata": {},
   "source": [
    "# 3. Clustering\n",
    "\n"
   ]
  },
  {
   "cell_type": "code",
   "execution_count": 224,
   "metadata": {},
   "outputs": [],
   "source": [
    "predictions = predict(X, prior, means, cov)"
   ]
  },
  {
   "cell_type": "markdown",
   "metadata": {},
   "source": [
    "# 4. k-means"
   ]
  },
  {
   "cell_type": "code",
   "execution_count": 120,
   "metadata": {},
   "outputs": [],
   "source": [
    "from sklearn.cluster import KMeans"
   ]
  },
  {
   "cell_type": "code",
   "execution_count": 150,
   "metadata": {},
   "outputs": [],
   "source": [
    "KM = KMeans(n_clusters=10)\n",
    "clusters = KM.fit(train_features)\n",
    "predictions_KMeans = KM.predict(train_features)"
   ]
  },
  {
   "cell_type": "markdown",
   "metadata": {},
   "source": [
    "# 5. Comparison"
   ]
  },
  {
   "cell_type": "code",
   "execution_count": 152,
   "metadata": {
    "scrolled": true
   },
   "outputs": [
    {
     "data": {
      "text/plain": [
       "array([[  0,   0,   0,   0,   0,   0,   0, 125,   0,   0],\n",
       "       [  2,   0,   0,   0,  25,   0,   0,   0,  39,  63],\n",
       "       [  0,   3,   0,   1, 106,   0,   3,   0,   1,  10],\n",
       "       [  0,   2,   2,  16,   0,   0, 110,   0,   0,   0],\n",
       "       [  0,   7,   0,   0,   0, 111,   0,   0,   4,   2],\n",
       "       [  1,   0,  94,  29,   0,   1,   1,   0,   0,   0],\n",
       "       [124,   0,   0,   0,   0,   0,   0,   1,   0,   2],\n",
       "       [  0, 124,   0,   0,   0,   0,   0,   0,   1,   0],\n",
       "       [  1,   1,   4,  39,   2,   0,   1,   0,   4,  70],\n",
       "       [  0,   6,   2,  97,   0,   0,   3,   0,  15,   2]])"
      ]
     },
     "execution_count": 152,
     "metadata": {},
     "output_type": "execute_result"
    }
   ],
   "source": [
    "metrics.confusion_matrix(train_labels,predictions_KMeans)"
   ]
  },
  {
   "cell_type": "code",
   "execution_count": 225,
   "metadata": {},
   "outputs": [
    {
     "data": {
      "text/plain": [
       "array([[125,   0,   0,   0,   0,   0,   0,   0,   0,   0],\n",
       "       [129,   0,   0,   0,   0,   0,   0,   0,   0,   0],\n",
       "       [124,   0,   0,   0,   0,   0,   0,   0,   0,   0],\n",
       "       [130,   0,   0,   0,   0,   0,   0,   0,   0,   0],\n",
       "       [124,   0,   0,   0,   0,   0,   0,   0,   0,   0],\n",
       "       [126,   0,   0,   0,   0,   0,   0,   0,   0,   0],\n",
       "       [127,   0,   0,   0,   0,   0,   0,   0,   0,   0],\n",
       "       [125,   0,   0,   0,   0,   0,   0,   0,   0,   0],\n",
       "       [122,   0,   0,   0,   0,   0,   0,   0,   0,   0],\n",
       "       [125,   0,   0,   0,   0,   0,   0,   0,   0,   0]])"
      ]
     },
     "execution_count": 225,
     "metadata": {},
     "output_type": "execute_result"
    }
   ],
   "source": [
    "metrics.confusion_matrix(train_labels,predictions)"
   ]
  },
  {
   "cell_type": "code",
   "execution_count": null,
   "metadata": {},
   "outputs": [],
   "source": []
  }
 ],
 "metadata": {
  "kernelspec": {
   "display_name": "Python 3",
   "language": "python",
   "name": "python3"
  },
  "language_info": {
   "codemirror_mode": {
    "name": "ipython",
    "version": 3
   },
   "file_extension": ".py",
   "mimetype": "text/x-python",
   "name": "python",
   "nbconvert_exporter": "python",
   "pygments_lexer": "ipython3",
   "version": "3.7.6"
  }
 },
 "nbformat": 4,
 "nbformat_minor": 4
}
